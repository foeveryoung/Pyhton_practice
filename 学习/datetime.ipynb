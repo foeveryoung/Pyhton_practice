{
 "cells": [
  {
   "cell_type": "markdown",
   "metadata": {},
   "source": [
    "# datetime"
   ]
  },
  {
   "cell_type": "code",
   "execution_count": 1,
   "metadata": {},
   "outputs": [],
   "source": [
    "import datetime\n",
    "import time"
   ]
  },
  {
   "cell_type": "code",
   "execution_count": null,
   "metadata": {},
   "outputs": [],
   "source": [
    "# %y 两位数的年份表示（00-99）\n",
    "# %Y 四位数的年份表示（000-9999）\n",
    "# %m 月份（01-12）\n",
    "# %d 月内中的一天（0-31）\n",
    "# %H 24小时制小时数（0-23）\n",
    "# %I 12小时制小时数（01-12）\n",
    "# %M 分钟数（00-59）\n",
    "# %S 秒（01-61），闰年的秒占两秒\n",
    "\n",
    "# %a 本地化星期的名称\n",
    "# %A 本地完整星期的名称\n",
    "# %b 本地简化月份名称\n",
    "# %B 本地完整月份名称\n",
    "# %c 本地相应日期表示和时间表示\n",
    "# %j 年内的一天（001-366）\n",
    "# %p 本地A.M.或P.M.的邓家富，智能与%I配合使用\n",
    "# %U 一年中的星期数（00-53），星期天为星期的开始\n",
    "# %w 星期（0-6），星期天为星期的开始\n",
    "# %W 一年中的星期数（00-53），星期一为星期的开始\n",
    "# %x 本地相应的日期表示\n",
    "# %X 本地相应的时间表示\n",
    "# %当前时区的名称\n",
    "# %% %本身"
   ]
  },
  {
   "cell_type": "code",
   "execution_count": null,
   "metadata": {},
   "outputs": [],
   "source": [
    "# tm_year 年\n",
    "# tm_mon 月\n",
    "# tm_mday 日\n",
    "# tm_hour 时\n",
    "# tm_min 分\n",
    "# tm_sec 秒\n",
    "# tm_wday 星期\n",
    "# tm_yday 一年中第几天\n",
    "# tm_isdst 是否夏令时，默认为-1"
   ]
  },
  {
   "cell_type": "markdown",
   "metadata": {},
   "source": [
    "## str与时间转化"
   ]
  },
  {
   "cell_type": "markdown",
   "metadata": {},
   "source": [
    "### datatime转换"
   ]
  },
  {
   "cell_type": "code",
   "execution_count": 4,
   "metadata": {},
   "outputs": [
    {
     "data": {
      "text/plain": [
       "'2018-08-09 09:46:30'"
      ]
     },
     "execution_count": 4,
     "metadata": {},
     "output_type": "execute_result"
    }
   ],
   "source": [
    "#时间转str\n",
    "datetime.datetime.now().strftime(\"%Y-%m-%d %H:%M:%S\")"
   ]
  },
  {
   "cell_type": "code",
   "execution_count": 5,
   "metadata": {},
   "outputs": [],
   "source": [
    "#str转时间\n",
    "dt=datetime.datetime.strptime(\"2017-09-23 12:30:10\",\"%Y-%m-%d %H:%M:%S\")"
   ]
  },
  {
   "cell_type": "code",
   "execution_count": 12,
   "metadata": {},
   "outputs": [
    {
     "name": "stdout",
     "output_type": "stream",
     "text": [
      "2017-09-23\n",
      "12\n"
     ]
    }
   ],
   "source": [
    "print(dt.date())\n",
    "print(dt.hour)"
   ]
  },
  {
   "cell_type": "markdown",
   "metadata": {},
   "source": [
    "### time转换"
   ]
  },
  {
   "cell_type": "code",
   "execution_count": 2,
   "metadata": {},
   "outputs": [],
   "source": [
    "dt2=time.strptime(\"2017-09-23 12:30:10\",\"%Y-%m-%d %H:%M:%S\")"
   ]
  },
  {
   "cell_type": "code",
   "execution_count": 3,
   "metadata": {},
   "outputs": [
    {
     "name": "stdout",
     "output_type": "stream",
     "text": [
      "time.struct_time(tm_year=2017, tm_mon=9, tm_mday=23, tm_hour=12, tm_min=30, tm_sec=10, tm_wday=5, tm_yday=266, tm_isdst=-1)\n"
     ]
    }
   ],
   "source": [
    "print(dt2)"
   ]
  },
  {
   "cell_type": "markdown",
   "metadata": {},
   "source": [
    "## 时间戳转换"
   ]
  },
  {
   "cell_type": "markdown",
   "metadata": {},
   "source": [
    "### datatime转换"
   ]
  },
  {
   "cell_type": "code",
   "execution_count": 13,
   "metadata": {},
   "outputs": [],
   "source": [
    "now=datetime.datetime.now()"
   ]
  },
  {
   "cell_type": "code",
   "execution_count": 17,
   "metadata": {},
   "outputs": [
    {
     "data": {
      "text/plain": [
       "1533779815.0"
      ]
     },
     "execution_count": 17,
     "metadata": {},
     "output_type": "execute_result"
    }
   ],
   "source": [
    "#转时间戳\n",
    "# 在转时间戳时，str先要转化成时间格式，在将时间格式用.timetuple()转换，最后转化为时间戳\n",
    "time.mktime(now.timetuple())"
   ]
  },
  {
   "cell_type": "code",
   "execution_count": 18,
   "metadata": {},
   "outputs": [
    {
     "data": {
      "text/plain": [
       "datetime.datetime(2018, 8, 9, 9, 56, 55)"
      ]
     },
     "execution_count": 18,
     "metadata": {},
     "output_type": "execute_result"
    }
   ],
   "source": [
    "#时间戳转时间\n",
    "datetime.datetime.fromtimestamp(1533779815.0)"
   ]
  },
  {
   "cell_type": "markdown",
   "metadata": {},
   "source": [
    "### time转换"
   ]
  },
  {
   "cell_type": "code",
   "execution_count": 4,
   "metadata": {},
   "outputs": [
    {
     "data": {
      "text/plain": [
       "1506141010.0"
      ]
     },
     "execution_count": 4,
     "metadata": {},
     "output_type": "execute_result"
    }
   ],
   "source": [
    "time.mktime(dt2)"
   ]
  },
  {
   "cell_type": "markdown",
   "metadata": {},
   "source": [
    "## 时间移动"
   ]
  },
  {
   "cell_type": "code",
   "execution_count": 20,
   "metadata": {},
   "outputs": [],
   "source": [
    "#加一天\n",
    "d1=datetime.datetime.now()+datetime.timedelta(days=1)"
   ]
  },
  {
   "cell_type": "code",
   "execution_count": null,
   "metadata": {},
   "outputs": [],
   "source": []
  }
 ],
 "metadata": {
  "kernelspec": {
   "display_name": "Python 3",
   "language": "python",
   "name": "python3"
  },
  "language_info": {
   "codemirror_mode": {
    "name": "ipython",
    "version": 3
   },
   "file_extension": ".py",
   "mimetype": "text/x-python",
   "name": "python",
   "nbconvert_exporter": "python",
   "pygments_lexer": "ipython3",
   "version": "3.6.5"
  }
 },
 "nbformat": 4,
 "nbformat_minor": 2
}
