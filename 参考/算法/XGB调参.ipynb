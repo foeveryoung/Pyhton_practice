{
 "cells": [
  {
   "cell_type": "markdown",
   "metadata": {},
   "source": [
    "# XGB调参"
   ]
  },
  {
   "cell_type": "code",
   "execution_count": null,
   "metadata": {},
   "outputs": [],
   "source": [
    "#https://blog.csdn.net/RuDing/article/details/78328835\n",
    "#https://blog.csdn.net/weixin_41370083/article/details/79276887"
   ]
  },
  {
   "cell_type": "code",
   "execution_count": null,
   "metadata": {},
   "outputs": [],
   "source": [
    "'''\n",
    "XGBoost 的优势\n",
    "Regularization： \n",
    "    标准的GBM并没有XGBoost的Regularization，这个能帮助减少过拟合问题\n",
    "Parallel Processing: \n",
    "    XGBoost实现了并行计算，与GBM相比非常快\n",
    "    但是基于序列的模型，新模型的建立是基于前面已经建立好的模型，如何能实现并行计算呢？探索一下吧\n",
    "XGBoost 支持在Hadoop上实现\n",
    "High Flexibility \n",
    "XGBoost允许用户定制优化目标和评价标准\n",
    "这一点将会使得我们对模型有很多可以改进的地方\n",
    "Handling Missing Values \n",
    "XGBoost有内嵌的处理缺失值的程序\n",
    "其他模型中用户被要求为缺失值提供相应的与其他值不同的值去填充缺失值，XGBoost会尝试对缺失值进行分类，并学习这种分类\n",
    "Tree Pruning: \n",
    "GBM会停止对一个节点进行分裂，当其计算到这个节点的split的loss是负数时，GBM是一个贪婪算法\n",
    "XGBoost的分类取决于max_depth，当树的深度达到max_depth时，开始进行剪枝，移除没有正基尼（no positive gain）节点的split\n",
    "另一个优点是一个节点被分裂的时候loss为-2，当其二次分裂的时候loss可能为+10，GBM会停止该节点的分裂，XGBoost会进入到第二步，然后结合两个分裂的影响，最终为+8\n",
    "Built-in Cross-Validation \n",
    "XGBoost允许每一个交叉验证实现boosting过程，因而通过一次run就能获得boosting迭代的优化量\n",
    "与GBM需要运营grid-search且需要限时值的范围获得优化量不同\n",
    "Continue on Existing Model\n",
    "用户可以通过上个版本的XGBoost模型训练新版本的模型\n",
    "GBM的sklearn也有这个特性\n",
    "加深对XGBoost的理解的文章： \n",
    "1.XGBoost Guide – Introduction to Boosted Trees \n",
    "2.Words from the Author of XGBoost\n",
    "\n",
    "\n",
    "'''"
   ]
  },
  {
   "cell_type": "code",
   "execution_count": null,
   "metadata": {},
   "outputs": [],
   "source": [
    "'''XGBoost Parameters\n",
    "XGBoost的变量类型有三类：\n",
    "\n",
    "    General Parameters：调控整个方程\n",
    "    Booster Parameters：调控每步树的相关变量\n",
    "    Learning Task Parameters：调控优化表现的变量\n",
    "1.General Parameters：\n",
    "    booster [default=gbtree]：\n",
    "\n",
    "     gbtree: tree-based models，树模型\n",
    "     gblinear: linear models，线性模型\n",
    "    silent [default=0]:\n",
    "        设置成1表示打印运行过程中的相关信息\n",
    "        通常选择默认值就好，打印出的信息能够帮助理解model\n",
    "    nthread [default to maximum number of threads available if not set] \n",
    "        主要用于并行计算，系统的内核数需要作为变量\n",
    "        如果希望运行所有的内核，就不需要设置该参数，程序会自己检测到该值\n",
    "2.Booster Parameters\n",
    "虽然XGBoost有两种boosters,作者在参数这一块只讨论了tree booster，原因是tree booster的表现总是好于 linear booster\n",
    "\n",
    "    eta [default=0.3] \n",
    "        与GBM中学习率的概念相似\n",
    "        通过减小每一步的权重能够使得建立的模型更鲁棒\n",
    "        通常最终的数值范围在[0.01-0.2]之间\n",
    "    min_child_weight [default=1] \n",
    "        定义观测样本生成的孩子节点的权重最小和\n",
    "        这个概念与GBM中的min_child_leaf概念类似，但是又不完全一样，这个概念指的是某观测叶子节点中所有样本权重之和的最小值，而GBM指的是叶子节点的最少样本量\n",
    "        用于防止过拟合问题：较大的值能防止过拟合，过大的值会导致欠拟合问题\n",
    "        需要通过CV调参\n",
    "    max_depth [default=6] \n",
    "        树的最大深度\n",
    "        用于防止过拟合问题\n",
    "        通过CV调参\n",
    "        通常值的范围：[3-10]\n",
    "    max_leaf_nodes \n",
    "        一棵树最多的叶子节点的数目\n",
    "        与max_depth定义一个就好\n",
    "    gamma [default=0] \n",
    "        一个节点分裂的条件是其分裂能够起到降低loss function的作用，gamma 定义loss function降低多少才分裂\n",
    "        这个变量使得算法变得保守，它的值取决于 loss function需要被调节\n",
    "    max_delta_step [default=0] \n",
    "        此变量的设置使得我们定义每棵树的权重估计值的变化幅度。如果值为0，值的变化没有限制，如果值>0，权重的变化将会变得相对保守\n",
    "        通常这个参数不会被使用，但如果是极度不平衡的逻辑回归将会有所帮助\n",
    "    subsample [default=1]： \n",
    "        与GBM的subsample定义一样，指的是没有每棵树的样本比例\n",
    "        低值使得模型更保守且能防止过拟合，但太低的值会导致欠拟合\n",
    "        通常取值范围[0.5-1]\n",
    "    colsample_bytree [default=1] \n",
    "        与GBM中的max_features类似，指的是每棵树随机选取的特征的比例\n",
    "        通常取值范围[0.5-1]\n",
    "    colsample_bylevel [default=1] \n",
    "        指的是树的每个层级分裂时子样本的特征所占的比例\n",
    "        作者表示不用这个参数，因为subsample和colsample_bytree组合做的事与之类似\n",
    "    lambda [default=1] \n",
    "        l2正则化权重的术语（同 Ridge regression）\n",
    "        用于处理XGBoost里的正则化部分，虽然很多数据科学家不怎么使用这个参数，但是它可以用于帮助防止过拟合\n",
    "    alpha [default=0] \n",
    "        l1正则化的权重术语（同Lasso regression）\n",
    "        当特征量特别多的时候可以使用，这样能加快算法的运行效率\n",
    "    scale_pos_weight [default=1] \n",
    "        当样本不平衡时，需要设置一个大于0的数帮助算法尽快收敛\n",
    "3.Learning Task Parameters\n",
    "此类变量用于定义优化目标每一次计算的需要用到的变量\n",
    "\n",
    "    objective [default=reg:linear] \n",
    "        用于定义loss function，通常有以下几类\n",
    "        binary:logistic-用于二分类，返回分类的概率而不是类别（class）\n",
    "        multi:softmax-多分类问题，返回分类的类别而不是概率\n",
    "        multi:softprob-与softmax类似，但是返回样本属于每一类的概率\n",
    "    eval_metric [ default according to objective ] \n",
    "        这个变量用于 测试数据（validation data.）\n",
    "        默认值：回归-rmse；分类-error\n",
    "        通常值如下： \n",
    "            rmse – root mean square error\n",
    "            mae – mean absolute error\n",
    "            logloss – negative log-likelihood\n",
    "            error – Binary classification error rate (0.5 threshold)\n",
    "            merror – Multiclass classification error rate\n",
    "            mlogloss – Multiclass logloss\n",
    "            auc: Area under the curve\n",
    "    seed [default=0] \n",
    "        随机种子的值\n",
    "有些变量在Python的sklearn的接口中对应命名如下： \n",
    "1. eta -> learning rate \n",
    "2. lambda ->reg_lambda \n",
    "3. alpha -> reg_alpha'''"
   ]
  },
  {
   "cell_type": "code",
   "execution_count": 9,
   "metadata": {},
   "outputs": [],
   "source": [
    "from sklearn.model_selection import train_test_split\n",
    "from sklearn import metrics\n",
    "import sklearn.datasets\n",
    "from sklearn.ensemble import GradientBoostingClassifier\n",
    "from xgboost.sklearn import XGBClassifier\n",
    "import pandas as pd"
   ]
  },
  {
   "cell_type": "code",
   "execution_count": 8,
   "metadata": {},
   "outputs": [
    {
     "data": {
      "text/plain": [
       "(12000, 10)"
      ]
     },
     "execution_count": 8,
     "metadata": {},
     "output_type": "execute_result"
    }
   ],
   "source": [
    "#数据载入\n",
    "X,y=sklearn.datasets.make_hastie_10_2(random_state=0)\n",
    "X.shape"
   ]
  },
  {
   "cell_type": "code",
   "execution_count": 10,
   "metadata": {},
   "outputs": [],
   "source": [
    "X_df=pd.DataFrame(X,columns=['a','b','c','d','e','f','g','h','i','j'])\n",
    "y_df=pd.DataFrame(y,columns=['y'])"
   ]
  },
  {
   "cell_type": "code",
   "execution_count": 11,
   "metadata": {},
   "outputs": [
    {
     "name": "stdout",
     "output_type": "stream",
     "text": [
      "<class 'pandas.core.frame.DataFrame'>\n",
      "RangeIndex: 12000 entries, 0 to 11999\n",
      "Data columns (total 10 columns):\n",
      "a    12000 non-null float64\n",
      "b    12000 non-null float64\n",
      "c    12000 non-null float64\n",
      "d    12000 non-null float64\n",
      "e    12000 non-null float64\n",
      "f    12000 non-null float64\n",
      "g    12000 non-null float64\n",
      "h    12000 non-null float64\n",
      "i    12000 non-null float64\n",
      "j    12000 non-null float64\n",
      "dtypes: float64(10)\n",
      "memory usage: 937.6 KB\n"
     ]
    }
   ],
   "source": [
    "X_df.info()"
   ]
  },
  {
   "cell_type": "code",
   "execution_count": 12,
   "metadata": {},
   "outputs": [],
   "source": [
    "X_train,X_test,y_train,y_test=train_test_split(X_df,y_df,test_size=0.5,random_state=0)"
   ]
  },
  {
   "cell_type": "markdown",
   "metadata": {},
   "source": [
    "### 默认参数下的AUC值和Accuracy"
   ]
  },
  {
   "cell_type": "code",
   "execution_count": 13,
   "metadata": {},
   "outputs": [
    {
     "name": "stderr",
     "output_type": "stream",
     "text": [
      "D:\\mathwork\\anaconda\\lib\\site-packages\\sklearn\\preprocessing\\label.py:95: DataConversionWarning: A column-vector y was passed when a 1d array was expected. Please change the shape of y to (n_samples, ), for example using ravel().\n",
      "  y = column_or_1d(y, warn=True)\n",
      "D:\\mathwork\\anaconda\\lib\\site-packages\\sklearn\\preprocessing\\label.py:128: DataConversionWarning: A column-vector y was passed when a 1d array was expected. Please change the shape of y to (n_samples, ), for example using ravel().\n",
      "  y = column_or_1d(y, warn=True)\n"
     ]
    },
    {
     "data": {
      "text/plain": [
       "XGBClassifier(base_score=0.5, booster='gbtree', colsample_bylevel=1,\n",
       "       colsample_bytree=1, gamma=0, learning_rate=0.1, max_delta_step=0,\n",
       "       max_depth=3, min_child_weight=1, missing=None, n_estimators=100,\n",
       "       n_jobs=1, nthread=None, objective='binary:logistic', random_state=0,\n",
       "       reg_alpha=0, reg_lambda=1, scale_pos_weight=1, seed=None,\n",
       "       silent=True, subsample=1)"
      ]
     },
     "execution_count": 13,
     "metadata": {},
     "output_type": "execute_result"
    }
   ],
   "source": [
    "auc_score=[]\n",
    "accuracy=[]\n",
    "clf=XGBClassifier()\n",
    "clf.fit(X_train,y_train)"
   ]
  },
  {
   "cell_type": "code",
   "execution_count": 14,
   "metadata": {},
   "outputs": [
    {
     "data": {
      "text/plain": [
       "array([ 1.,  1., -1., ..., -1.,  1., -1.])"
      ]
     },
     "execution_count": 14,
     "metadata": {},
     "output_type": "execute_result"
    }
   ],
   "source": [
    "y_pre=clf.predict(X_test)\n",
    "y_pre"
   ]
  },
  {
   "cell_type": "code",
   "execution_count": 15,
   "metadata": {},
   "outputs": [
    {
     "data": {
      "text/plain": [
       "array([0.6235448 , 0.68954515, 0.21596238, ..., 0.26699007, 0.94158596,\n",
       "       0.37172532], dtype=float32)"
      ]
     },
     "execution_count": 15,
     "metadata": {},
     "output_type": "execute_result"
    }
   ],
   "source": [
    "y_pro=clf.predict_proba(X_test)[:,1]\n",
    "\n",
    "y_pro"
   ]
  },
  {
   "cell_type": "code",
   "execution_count": 16,
   "metadata": {},
   "outputs": [
    {
     "data": {
      "text/plain": [
       "array([[0.3764552 , 0.6235448 ],\n",
       "       [0.31045485, 0.68954515],\n",
       "       [0.7840376 , 0.21596238],\n",
       "       ...,\n",
       "       [0.73300993, 0.26699007],\n",
       "       [0.05841404, 0.94158596],\n",
       "       [0.6282747 , 0.37172532]], dtype=float32)"
      ]
     },
     "execution_count": 16,
     "metadata": {},
     "output_type": "execute_result"
    }
   ],
   "source": [
    "clf.predict_proba(X_test)"
   ]
  },
  {
   "cell_type": "code",
   "execution_count": 19,
   "metadata": {},
   "outputs": [
    {
     "name": "stdout",
     "output_type": "stream",
     "text": [
      "AUC score:0.9724236044936388\n",
      "ACCURACY :0.8993333333333333\n",
      "Accuracy:0.8993333333333333\n"
     ]
    }
   ],
   "source": [
    "print('AUC score:{}'.format(metrics.roc_auc_score(y_test,y_pro)))\n",
    "print('ACCURACY :{}'.format(metrics.accuracy_score(y_test,y_pre)))\n",
    "print('Accuracy:{}'.format(clf.score(X_test,y_test)))\n",
    "auc_score.append(metrics.roc_auc_score(y_test,y_pro))\n",
    "accuracy.append(metrics.accuracy_score(y_test,y_pre))"
   ]
  },
  {
   "cell_type": "code",
   "execution_count": 22,
   "metadata": {},
   "outputs": [
    {
     "data": {
      "text/plain": [
       "[0.9724236044936388]"
      ]
     },
     "execution_count": 22,
     "metadata": {},
     "output_type": "execute_result"
    }
   ],
   "source": [
    "auc_score"
   ]
  },
  {
   "cell_type": "markdown",
   "metadata": {},
   "source": [
    "### 调参1"
   ]
  },
  {
   "cell_type": "code",
   "execution_count": 24,
   "metadata": {},
   "outputs": [
    {
     "name": "stderr",
     "output_type": "stream",
     "text": [
      "D:\\mathwork\\anaconda\\lib\\site-packages\\sklearn\\preprocessing\\label.py:95: DataConversionWarning: A column-vector y was passed when a 1d array was expected. Please change the shape of y to (n_samples, ), for example using ravel().\n",
      "  y = column_or_1d(y, warn=True)\n",
      "D:\\mathwork\\anaconda\\lib\\site-packages\\sklearn\\preprocessing\\label.py:128: DataConversionWarning: A column-vector y was passed when a 1d array was expected. Please change the shape of y to (n_samples, ), for example using ravel().\n",
      "  y = column_or_1d(y, warn=True)\n"
     ]
    },
    {
     "name": "stdout",
     "output_type": "stream",
     "text": [
      "AUC score:0.989543258119342\n",
      "ACCURACY :0.9436666666666667\n",
      "Accuracy:0.9436666666666667\n"
     ]
    }
   ],
   "source": [
    "clf = XGBClassifier(\n",
    "    learning_rate =0.1, #默认0.3\n",
    "    n_estimators=1000, #树的个数\n",
    "    max_depth=5,\n",
    "    min_child_weight=1,\n",
    "    gamma=0,\n",
    "    subsample=0.8,\n",
    "    colsample_bytree=0.8,\n",
    "    objective= 'binary:logistic', #逻辑回归损失函数\n",
    "    nthread=4,  #cpu线程数\n",
    "    scale_pos_weight=1,\n",
    "    seed=27)\n",
    "clf.fit(X_train,y_train)\n",
    "y_pre=clf.predict(X_test)\n",
    "y_pro=clf.predict_proba(X_test)[:,1]\n",
    "print('AUC score:{}'.format(metrics.roc_auc_score(y_test,y_pro)))\n",
    "print('ACCURACY :{}'.format(metrics.accuracy_score(y_test,y_pre)))\n",
    "print('Accuracy:{}'.format(clf.score(X_test,y_test)))\n",
    "auc_score.append(metrics.roc_auc_score(y_test,y_pro))\n",
    "accuracy.append(metrics.accuracy_score(y_test,y_pre))"
   ]
  },
  {
   "cell_type": "markdown",
   "metadata": {},
   "source": [
    "### 调参2"
   ]
  },
  {
   "cell_type": "code",
   "execution_count": null,
   "metadata": {},
   "outputs": [],
   "source": [
    "'''第二步： max_depth 和 min_weight 它们对最终结果有很大的影响\n",
    "\n",
    "max_depth range(3,10,2)=[3, 5, 7, 9]\n",
    "\n",
    "min_weight range(1,6,2)=[1, 3, 5]\n",
    "\n",
    "max_depth=3 min_weight=1 最好'''"
   ]
  },
  {
   "cell_type": "code",
   "execution_count": 25,
   "metadata": {},
   "outputs": [
    {
     "name": "stderr",
     "output_type": "stream",
     "text": [
      "D:\\mathwork\\anaconda\\lib\\site-packages\\sklearn\\preprocessing\\label.py:95: DataConversionWarning: A column-vector y was passed when a 1d array was expected. Please change the shape of y to (n_samples, ), for example using ravel().\n",
      "  y = column_or_1d(y, warn=True)\n",
      "D:\\mathwork\\anaconda\\lib\\site-packages\\sklearn\\preprocessing\\label.py:128: DataConversionWarning: A column-vector y was passed when a 1d array was expected. Please change the shape of y to (n_samples, ), for example using ravel().\n",
      "  y = column_or_1d(y, warn=True)\n"
     ]
    },
    {
     "name": "stdout",
     "output_type": "stream",
     "text": [
      "AUC score:0.9916984305331351\n",
      "ACCURACY :0.9485\n",
      "Accuracy:0.9485\n"
     ]
    }
   ],
   "source": [
    "clf = XGBClassifier(\n",
    "    learning_rate =0.1, #默认0.3\n",
    "    n_estimators=1000, #树的个数\n",
    "    max_depth=3,\n",
    "    min_child_weight=1,\n",
    "    gamma=0,\n",
    "    subsample=0.8,\n",
    "    colsample_bytree=0.8,\n",
    "    objective= 'binary:logistic', #逻辑回归损失函数\n",
    "    nthread=4,  #cpu线程数\n",
    "    scale_pos_weight=1,\n",
    "    seed=27)\n",
    "clf.fit(X_train,y_train)\n",
    "y_pre=clf.predict(X_test)\n",
    "y_pro=clf.predict_proba(X_test)[:,1]\n",
    "print('AUC score:{}'.format(metrics.roc_auc_score(y_test,y_pro)))\n",
    "print('ACCURACY :{}'.format(metrics.accuracy_score(y_test,y_pre)))\n",
    "print('Accuracy:{}'.format(clf.score(X_test,y_test)))\n",
    "auc_score.append(metrics.roc_auc_score(y_test,y_pro))\n",
    "accuracy.append(metrics.accuracy_score(y_test,y_pre))"
   ]
  },
  {
   "cell_type": "markdown",
   "metadata": {},
   "source": [
    "### 调参3"
   ]
  },
  {
   "cell_type": "code",
   "execution_count": 26,
   "metadata": {},
   "outputs": [
    {
     "data": {
      "text/plain": [
       "\"第三步：gamma参数调优\\n\\n'gamma':[i/10.0 for i in range(0,7)]=[0.0, 0.1, 0.2, 0.3, 0.4, 0.5, 0.6]\\n\\ngamma=0.5 最好\""
      ]
     },
     "execution_count": 26,
     "metadata": {},
     "output_type": "execute_result"
    }
   ],
   "source": [
    "'''第三步：gamma参数调优\n",
    "\n",
    "'gamma':[i/10.0 for i in range(0,7)]=[0.0, 0.1, 0.2, 0.3, 0.4, 0.5, 0.6]\n",
    "\n",
    "gamma=0.5 最好'''"
   ]
  },
  {
   "cell_type": "code",
   "execution_count": 27,
   "metadata": {},
   "outputs": [
    {
     "name": "stderr",
     "output_type": "stream",
     "text": [
      "D:\\mathwork\\anaconda\\lib\\site-packages\\sklearn\\preprocessing\\label.py:95: DataConversionWarning: A column-vector y was passed when a 1d array was expected. Please change the shape of y to (n_samples, ), for example using ravel().\n",
      "  y = column_or_1d(y, warn=True)\n",
      "D:\\mathwork\\anaconda\\lib\\site-packages\\sklearn\\preprocessing\\label.py:128: DataConversionWarning: A column-vector y was passed when a 1d array was expected. Please change the shape of y to (n_samples, ), for example using ravel().\n",
      "  y = column_or_1d(y, warn=True)\n"
     ]
    },
    {
     "name": "stdout",
     "output_type": "stream",
     "text": [
      "AUC score:0.9921074421672438\n",
      "ACCURACY :0.9495\n",
      "Accuracy:0.9495\n"
     ]
    }
   ],
   "source": [
    "clf = XGBClassifier(\n",
    "    learning_rate =0.1, #默认0.3\n",
    "    n_estimators=1000, #树的个数\n",
    "    max_depth=3,\n",
    "    min_child_weight=1,\n",
    "    gamma=0.5,\n",
    "    subsample=0.8,\n",
    "    colsample_bytree=0.8,\n",
    "    objective= 'binary:logistic', #逻辑回归损失函数\n",
    "    nthread=4,  #cpu线程数\n",
    "    scale_pos_weight=1,\n",
    "    seed=27)\n",
    "clf.fit(X_train,y_train)\n",
    "y_pre=clf.predict(X_test)\n",
    "y_pro=clf.predict_proba(X_test)[:,1]\n",
    "print('AUC score:{}'.format(metrics.roc_auc_score(y_test,y_pro)))\n",
    "print('ACCURACY :{}'.format(metrics.accuracy_score(y_test,y_pre)))\n",
    "print('Accuracy:{}'.format(clf.score(X_test,y_test)))\n",
    "auc_score.append(metrics.roc_auc_score(y_test,y_pro))\n",
    "accuracy.append(metrics.accuracy_score(y_test,y_pre))"
   ]
  },
  {
   "cell_type": "markdown",
   "metadata": {},
   "source": [
    "### 调参4"
   ]
  },
  {
   "cell_type": "code",
   "execution_count": 28,
   "metadata": {},
   "outputs": [
    {
     "data": {
      "text/plain": [
       "\"第四步：调整subsample 和 colsample_bytree 参数\\n\\n'subsample':[i/10.0 for i in range(6,10)]=[0.6, 0.7, 0.8, 0.9]\\n\\n'colsample_bytree':[i/10.0 for i in range(6,10)]=[0.6, 0.7, 0.8, 0.9]\\n\\n'subsample': 0.6, 'colsample_bytree': 0.6 最好\\n\""
      ]
     },
     "execution_count": 28,
     "metadata": {},
     "output_type": "execute_result"
    }
   ],
   "source": [
    "'''第四步：调整subsample 和 colsample_bytree 参数\n",
    "\n",
    "'subsample':[i/10.0 for i in range(6,10)]=[0.6, 0.7, 0.8, 0.9]\n",
    "\n",
    "'colsample_bytree':[i/10.0 for i in range(6,10)]=[0.6, 0.7, 0.8, 0.9]\n",
    "\n",
    "'subsample': 0.6, 'colsample_bytree': 0.6 最好\n",
    "'''"
   ]
  },
  {
   "cell_type": "code",
   "execution_count": 29,
   "metadata": {},
   "outputs": [
    {
     "name": "stderr",
     "output_type": "stream",
     "text": [
      "D:\\mathwork\\anaconda\\lib\\site-packages\\sklearn\\preprocessing\\label.py:95: DataConversionWarning: A column-vector y was passed when a 1d array was expected. Please change the shape of y to (n_samples, ), for example using ravel().\n",
      "  y = column_or_1d(y, warn=True)\n",
      "D:\\mathwork\\anaconda\\lib\\site-packages\\sklearn\\preprocessing\\label.py:128: DataConversionWarning: A column-vector y was passed when a 1d array was expected. Please change the shape of y to (n_samples, ), for example using ravel().\n",
      "  y = column_or_1d(y, warn=True)\n"
     ]
    },
    {
     "name": "stdout",
     "output_type": "stream",
     "text": [
      "AUC score:0.9926972367214\n",
      "ACCURACY :0.9548333333333333\n",
      "Accuracy:0.9548333333333333\n"
     ]
    }
   ],
   "source": [
    "clf = XGBClassifier(\n",
    "    learning_rate =0.1, #默认0.3\n",
    "    n_estimators=1000, #树的个数\n",
    "    max_depth=3,\n",
    "    min_child_weight=1,\n",
    "    gamma=0.5,\n",
    "    subsample=0.6,\n",
    "    colsample_bytree=0.6,\n",
    "    objective= 'binary:logistic', #逻辑回归损失函数\n",
    "    nthread=4,  #cpu线程数\n",
    "    scale_pos_weight=1,\n",
    "    seed=27)\n",
    "clf.fit(X_train,y_train)\n",
    "y_pre=clf.predict(X_test)\n",
    "y_pro=clf.predict_proba(X_test)[:,1]\n",
    "print('AUC score:{}'.format(metrics.roc_auc_score(y_test,y_pro)))\n",
    "print('ACCURACY :{}'.format(metrics.accuracy_score(y_test,y_pre)))\n",
    "print('Accuracy:{}'.format(clf.score(X_test,y_test)))\n",
    "auc_score.append(metrics.roc_auc_score(y_test,y_pro))\n",
    "accuracy.append(metrics.accuracy_score(y_test,y_pre))"
   ]
  },
  {
   "cell_type": "markdown",
   "metadata": {},
   "source": [
    "### 调参5"
   ]
  },
  {
   "cell_type": "code",
   "execution_count": 30,
   "metadata": {},
   "outputs": [
    {
     "data": {
      "text/plain": [
       "\"'reg_alpha':[1e-5, 1e-2, 0.1, 1, 100]=[1e-05, 0.01, 0.1, 1, 100] 默认0 L1正则项参数，参数值越大，模型越不容易过拟合\\n\\n'reg_lambda':[1,5,10,50] 默认1L2正则项参数，参数值越大，模型越不容易过拟合\\n\\n{'reg_alpha': 1e-05, 'reg_lambda': 1} 正则变化不大\\n\""
      ]
     },
     "execution_count": 30,
     "metadata": {},
     "output_type": "execute_result"
    }
   ],
   "source": [
    "''''reg_alpha':[1e-5, 1e-2, 0.1, 1, 100]=[1e-05, 0.01, 0.1, 1, 100] 默认0 L1正则项参数，参数值越大，模型越不容易过拟合\n",
    "\n",
    "'reg_lambda':[1,5,10,50] 默认1L2正则项参数，参数值越大，模型越不容易过拟合\n",
    "\n",
    "{'reg_alpha': 1e-05, 'reg_lambda': 1} 正则变化不大\n",
    "'''"
   ]
  },
  {
   "cell_type": "code",
   "execution_count": 32,
   "metadata": {
    "scrolled": true
   },
   "outputs": [
    {
     "name": "stderr",
     "output_type": "stream",
     "text": [
      "D:\\mathwork\\anaconda\\lib\\site-packages\\sklearn\\preprocessing\\label.py:95: DataConversionWarning: A column-vector y was passed when a 1d array was expected. Please change the shape of y to (n_samples, ), for example using ravel().\n",
      "  y = column_or_1d(y, warn=True)\n",
      "D:\\mathwork\\anaconda\\lib\\site-packages\\sklearn\\preprocessing\\label.py:128: DataConversionWarning: A column-vector y was passed when a 1d array was expected. Please change the shape of y to (n_samples, ), for example using ravel().\n",
      "  y = column_or_1d(y, warn=True)\n"
     ]
    },
    {
     "name": "stdout",
     "output_type": "stream",
     "text": [
      "AUC score:0.9927470159151193\n",
      "ACCURACY :0.953\n",
      "Accuracy:0.953\n"
     ]
    }
   ],
   "source": [
    "clf = XGBClassifier(\n",
    "    learning_rate =0.1, #默认0.3\n",
    "    n_estimators=1000, #树的个数\n",
    "    max_depth=3,\n",
    "    min_child_weight=1,\n",
    "    gamma=0.5,\n",
    "    subsample=0.6,\n",
    "    colsample_bytree=0.6,\n",
    "    objective= 'binary:logistic', #逻辑回归损失函数\n",
    "    nthread=4,  #cpu线程数\n",
    "    scale_pos_weight=1,\n",
    "    reg_alpha=1e-05,\n",
    "    reg_lambda=1,\n",
    "    seed=27)\n",
    "clf.fit(X_train,y_train)\n",
    "y_pre=clf.predict(X_test)\n",
    "y_pro=clf.predict_proba(X_test)[:,1]\n",
    "print('AUC score:{}'.format(metrics.roc_auc_score(y_test,y_pro)))\n",
    "print('ACCURACY :{}'.format(metrics.accuracy_score(y_test,y_pre)))\n",
    "print('Accuracy:{}'.format(clf.score(X_test,y_test)))\n",
    "auc_score.append(metrics.roc_auc_score(y_test,y_pro))\n",
    "accuracy.append(metrics.accuracy_score(y_test,y_pre))"
   ]
  },
  {
   "cell_type": "markdown",
   "metadata": {},
   "source": [
    "### 调参6"
   ]
  },
  {
   "cell_type": "code",
   "execution_count": 33,
   "metadata": {},
   "outputs": [
    {
     "data": {
      "text/plain": [
       "\"进一步 降低学习速率 增加更多的树\\n\\n'learning_rate':[0.01,0.1,0.3]\\n\\n'learning_rate': 0.1 不变\\n\\n'n_estimators':[1000,1200,1500,2000,2500]\\n\\n'n_estimators': 2000 较好\""
      ]
     },
     "execution_count": 33,
     "metadata": {},
     "output_type": "execute_result"
    }
   ],
   "source": [
    "'''进一步 降低学习速率 增加更多的树\n",
    "\n",
    "'learning_rate':[0.01,0.1,0.3]\n",
    "\n",
    "'learning_rate': 0.1 不变\n",
    "\n",
    "'n_estimators':[1000,1200,1500,2000,2500]\n",
    "\n",
    "'n_estimators': 2000 较好'''"
   ]
  },
  {
   "cell_type": "code",
   "execution_count": 34,
   "metadata": {},
   "outputs": [
    {
     "name": "stderr",
     "output_type": "stream",
     "text": [
      "D:\\mathwork\\anaconda\\lib\\site-packages\\sklearn\\preprocessing\\label.py:95: DataConversionWarning: A column-vector y was passed when a 1d array was expected. Please change the shape of y to (n_samples, ), for example using ravel().\n",
      "  y = column_or_1d(y, warn=True)\n",
      "D:\\mathwork\\anaconda\\lib\\site-packages\\sklearn\\preprocessing\\label.py:128: DataConversionWarning: A column-vector y was passed when a 1d array was expected. Please change the shape of y to (n_samples, ), for example using ravel().\n",
      "  y = column_or_1d(y, warn=True)\n"
     ]
    },
    {
     "name": "stdout",
     "output_type": "stream",
     "text": [
      "AUC score:0.993322810071042\n",
      "ACCURACY :0.9581666666666667\n",
      "Accuracy:0.9581666666666667\n"
     ]
    }
   ],
   "source": [
    "clf = XGBClassifier(\n",
    "    learning_rate =0.1, #默认0.3\n",
    "    n_estimators=2000, #树的个数\n",
    "    max_depth=3,\n",
    "    min_child_weight=1,\n",
    "    gamma=0.5,\n",
    "    subsample=0.6,\n",
    "    colsample_bytree=0.6,\n",
    "    objective= 'binary:logistic', #逻辑回归损失函数\n",
    "    nthread=4,  #cpu线程数\n",
    "    scale_pos_weight=1,\n",
    "    reg_alpha=1e-05,\n",
    "    reg_lambda=1,\n",
    "    seed=27)\n",
    "clf.fit(X_train,y_train)\n",
    "y_pre=clf.predict(X_test)\n",
    "y_pro=clf.predict_proba(X_test)[:,1]\n",
    "print('AUC score:{}'.format(metrics.roc_auc_score(y_test,y_pro)))\n",
    "print('ACCURACY :{}'.format(metrics.accuracy_score(y_test,y_pre)))\n",
    "print('Accuracy:{}'.format(clf.score(X_test,y_test)))\n",
    "auc_score.append(metrics.roc_auc_score(y_test,y_pro))\n",
    "accuracy.append(metrics.accuracy_score(y_test,y_pre))"
   ]
  },
  {
   "cell_type": "code",
   "execution_count": 36,
   "metadata": {},
   "outputs": [
    {
     "data": {
      "image/png": "[encoded data removed]",
      "text/plain": [
       "<Figure size 1080x360 with 2 Axes>"
      ]
     },
     "metadata": {},
     "output_type": "display_data"
    }
   ],
   "source": [
    "import matplotlib.pyplot as plt\n",
    "fig=plt.figure(figsize=(15,5))\n",
    "p1=plt.subplot(1,2,1)\n",
    "p1.plot(auc_score)\n",
    "p1.set_ylabel('auc_score')\n",
    "p1.set_title('auc_score')\n",
    "p2=plt.subplot(1,2,2)\n",
    "p2.plot(accuracy)\n",
    "p2.set_ylabel('accuracy')\n",
    "p2.set_title('accuracy')\n",
    "plt.show()"
   ]
  },
  {
   "cell_type": "code",
   "execution_count": null,
   "metadata": {},
   "outputs": [],
   "source": []
  }
 ],
 "metadata": {
  "kernelspec": {
   "display_name": "Python 3",
   "language": "python",
   "name": "python3"
  },
  "language_info": {
   "codemirror_mode": {
    "name": "ipython",
    "version": 3
   },
   "file_extension": ".py",
   "mimetype": "text/x-python",
   "name": "python",
   "nbconvert_exporter": "python",
   "pygments_lexer": "ipython3",
   "version": "3.6.5"
  }
 },
 "nbformat": 4,
 "nbformat_minor": 2
}
