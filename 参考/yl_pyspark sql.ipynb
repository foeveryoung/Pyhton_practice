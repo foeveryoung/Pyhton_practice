{
 "cells": [
  {
   "cell_type": "code",
   "execution_count": 1,
   "metadata": {
    "collapsed": false
   },
   "outputs": [
    {
     "data": {
      "text/plain": [
       "array([  1.        ,   1.18367347,   1.36734694,   1.55102041,\n",
       "         1.73469388,   1.91836735,   2.10204082,   2.28571429,\n",
       "         2.46938776,   2.65306122,   2.83673469,   3.02040816,\n",
       "         3.20408163,   3.3877551 ,   3.57142857,   3.75510204,\n",
       "         3.93877551,   4.12244898,   4.30612245,   4.48979592,\n",
       "         4.67346939,   4.85714286,   5.04081633,   5.2244898 ,\n",
       "         5.40816327,   5.59183673,   5.7755102 ,   5.95918367,\n",
       "         6.14285714,   6.32653061,   6.51020408,   6.69387755,\n",
       "         6.87755102,   7.06122449,   7.24489796,   7.42857143,\n",
       "         7.6122449 ,   7.79591837,   7.97959184,   8.16326531,\n",
       "         8.34693878,   8.53061224,   8.71428571,   8.89795918,\n",
       "         9.08163265,   9.26530612,   9.44897959,   9.63265306,\n",
       "         9.81632653,  10.        ])"
      ]
     },
     "execution_count": 1,
     "metadata": {},
     "output_type": "execute_result"
    }
   ],
   "source": [
    "path = '/Users/longbro/Downloads/小贞毕设/'\n",
    "import numpy as np\n",
    "np.linspace(1,10)"
   ]
  },
  {
   "cell_type": "code",
   "execution_count": 2,
   "metadata": {
    "collapsed": false
   },
   "outputs": [
    {
     "data": {
      "text/html": [
       "<div>\n",
       "<table border=\"1\" class=\"dataframe\">\n",
       "  <thead>\n",
       "    <tr style=\"text-align: right;\">\n",
       "      <th></th>\n",
       "      <th>account</th>\n",
       "      <th>trans_id</th>\n",
       "      <th>trans_name</th>\n",
       "      <th>trans_date</th>\n",
       "      <th>prod_id</th>\n",
       "      <th>prod_name</th>\n",
       "      <th>trans_way</th>\n",
       "      <th>amount</th>\n",
       "    </tr>\n",
       "  </thead>\n",
       "  <tbody>\n",
       "    <tr>\n",
       "      <th>0</th>\n",
       "      <td>1003089018</td>\n",
       "      <td>100541</td>\n",
       "      <td>智能定投开通</td>\n",
       "      <td>20161017</td>\n",
       "      <td>020003</td>\n",
       "      <td>国泰金龙行业</td>\n",
       "      <td>网上银行</td>\n",
       "      <td>1000.0</td>\n",
       "    </tr>\n",
       "    <tr>\n",
       "      <th>1</th>\n",
       "      <td>1001172983</td>\n",
       "      <td>100003</td>\n",
       "      <td>银行账户变更</td>\n",
       "      <td>20161017</td>\n",
       "      <td></td>\n",
       "      <td>None</td>\n",
       "      <td>网上银行</td>\n",
       "      <td>0.0</td>\n",
       "    </tr>\n",
       "    <tr>\n",
       "      <th>2</th>\n",
       "      <td>1001232639</td>\n",
       "      <td>100208</td>\n",
       "      <td>定期定额开通</td>\n",
       "      <td>20161017</td>\n",
       "      <td>100056</td>\n",
       "      <td>富国低碳环保</td>\n",
       "      <td>网上银行</td>\n",
       "      <td>100.0</td>\n",
       "    </tr>\n",
       "    <tr>\n",
       "      <th>3</th>\n",
       "      <td>1001232639</td>\n",
       "      <td>100208</td>\n",
       "      <td>定期定额开通</td>\n",
       "      <td>20161017</td>\n",
       "      <td>001616</td>\n",
       "      <td>嘉实环保低碳</td>\n",
       "      <td>网上银行</td>\n",
       "      <td>100.0</td>\n",
       "    </tr>\n",
       "    <tr>\n",
       "      <th>4</th>\n",
       "      <td>1003275159</td>\n",
       "      <td>100541</td>\n",
       "      <td>智能定投开通</td>\n",
       "      <td>20161017</td>\n",
       "      <td>000136</td>\n",
       "      <td>民生策略精选混合</td>\n",
       "      <td>网上银行</td>\n",
       "      <td>400.0</td>\n",
       "    </tr>\n",
       "  </tbody>\n",
       "</table>\n",
       "</div>"
      ],
      "text/plain": [
       "      account trans_id trans_name trans_date prod_id prod_name trans_way  \\\n",
       "0  1003089018   100541     智能定投开通   20161017  020003    国泰金龙行业      网上银行   \n",
       "1  1001172983   100003     银行账户变更   20161017              None      网上银行   \n",
       "2  1001232639   100208     定期定额开通   20161017  100056    富国低碳环保      网上银行   \n",
       "3  1001232639   100208     定期定额开通   20161017  001616    嘉实环保低碳      网上银行   \n",
       "4  1003275159   100541     智能定投开通   20161017  000136  民生策略精选混合      网上银行   \n",
       "\n",
       "   amount  \n",
       "0  1000.0  \n",
       "1     0.0  \n",
       "2   100.0  \n",
       "3   100.0  \n",
       "4   400.0  "
      ]
     },
     "execution_count": 2,
     "metadata": {},
     "output_type": "execute_result"
    }
   ],
   "source": [
    "# 读取csv\n",
    "trans = spark.read.format('csv').load(path + 'trans.csv',header = True)\n",
    "# 列名重命名1\n",
    "oldColumns  = trans.columns\n",
    "newColumns = ['account','trans_id','trans_name','trans_date','prod_id','prod_name','trans_way','amount']\n",
    "# reduce 第三个参数是初始值\n",
    "trans = reduce(lambda trans2, idx : trans2.withColumnRenamed(oldColumns[idx], newColumns[idx]), xrange(len(oldColumns)),trans)\n",
    "\n",
    "# 列名重命名2\n",
    "from pyspark.sql.functions import *\n",
    "# cost = cost.select(col(\"客户号\").alias(\"account\"),col(\"产品代码\").alias(\"prod_id\"),col(\"投资成本\").alias(\"amount\"))\n",
    "\n",
    "# 列重命名 3\n",
    "# customer = customer.toDF('account','cus_type','cus_group','certification','gender','risk','birthday','manager')\n",
    "trans.toPandas().head()"
   ]
  },
  {
   "cell_type": "code",
   "execution_count": 3,
   "metadata": {
    "collapsed": false
   },
   "outputs": [],
   "source": [
    "# 注册为table1\n",
    "# from pyspark.sql import SQLContext\n",
    "# sqlCtx = SQLContext(sc)\n",
    "# sqlCtx.registerDataFrameAsTable(cost,'cost')\n",
    "\n",
    "# 注册为table2\n",
    "trans.registerTempTable('trans')\n",
    "# product.registerTempTable('product')\n",
    "# customer.registerTempTable('customer')"
   ]
  },
  {
   "cell_type": "code",
   "execution_count": 4,
   "metadata": {
    "collapsed": false
   },
   "outputs": [
    {
     "data": {
      "text/html": [
       "<div>\n",
       "<table border=\"1\" class=\"dataframe\">\n",
       "  <thead>\n",
       "    <tr style=\"text-align: right;\">\n",
       "      <th></th>\n",
       "      <th>account</th>\n",
       "      <th>trans_id</th>\n",
       "      <th>prod_id</th>\n",
       "      <th>amount</th>\n",
       "      <th>trans_date</th>\n",
       "      <th>sum_account</th>\n",
       "      <th>row_nums</th>\n",
       "      <th>rank</th>\n",
       "      <th>dense_rank</th>\n",
       "      <th>ntile</th>\n",
       "      <th>cume_dist</th>\n",
       "      <th>lag_1</th>\n",
       "      <th>lead_3</th>\n",
       "      <th>first_value</th>\n",
       "      <th>last_value</th>\n",
       "    </tr>\n",
       "  </thead>\n",
       "  <tbody>\n",
       "    <tr>\n",
       "      <th>0</th>\n",
       "      <td>1000273675</td>\n",
       "      <td>200208</td>\n",
       "      <td>340008</td>\n",
       "      <td>2000.0</td>\n",
       "      <td>20161101</td>\n",
       "      <td>2000</td>\n",
       "      <td>1</td>\n",
       "      <td>1</td>\n",
       "      <td>1</td>\n",
       "      <td>1</td>\n",
       "      <td>0.54</td>\n",
       "      <td>filled</td>\n",
       "      <td>20161102</td>\n",
       "      <td>340008</td>\n",
       "      <td>340006</td>\n",
       "    </tr>\n",
       "    <tr>\n",
       "      <th>1</th>\n",
       "      <td>1000273675</td>\n",
       "      <td>200208</td>\n",
       "      <td>340006</td>\n",
       "      <td>2000.0</td>\n",
       "      <td>20161101</td>\n",
       "      <td>14000</td>\n",
       "      <td>8</td>\n",
       "      <td>8</td>\n",
       "      <td>2</td>\n",
       "      <td>2</td>\n",
       "      <td>1.00</td>\n",
       "      <td>20161101</td>\n",
       "      <td>20161102</td>\n",
       "      <td>340008</td>\n",
       "      <td>340006</td>\n",
       "    </tr>\n",
       "    <tr>\n",
       "      <th>2</th>\n",
       "      <td>1000273675</td>\n",
       "      <td>100209</td>\n",
       "      <td>340008</td>\n",
       "      <td>2000.0</td>\n",
       "      <td>20161102</td>\n",
       "      <td>4000</td>\n",
       "      <td>2</td>\n",
       "      <td>1</td>\n",
       "      <td>1</td>\n",
       "      <td>1</td>\n",
       "      <td>0.54</td>\n",
       "      <td>20161101</td>\n",
       "      <td>20161103</td>\n",
       "      <td>340008</td>\n",
       "      <td>340006</td>\n",
       "    </tr>\n",
       "    <tr>\n",
       "      <th>3</th>\n",
       "      <td>1000273675</td>\n",
       "      <td>100209</td>\n",
       "      <td>340006</td>\n",
       "      <td>2000.0</td>\n",
       "      <td>20161102</td>\n",
       "      <td>16000</td>\n",
       "      <td>9</td>\n",
       "      <td>8</td>\n",
       "      <td>2</td>\n",
       "      <td>2</td>\n",
       "      <td>1.00</td>\n",
       "      <td>20161102</td>\n",
       "      <td>20161103</td>\n",
       "      <td>340008</td>\n",
       "      <td>340006</td>\n",
       "    </tr>\n",
       "    <tr>\n",
       "      <th>4</th>\n",
       "      <td>1000273675</td>\n",
       "      <td>100209</td>\n",
       "      <td>340006</td>\n",
       "      <td>2000.0</td>\n",
       "      <td>20161102</td>\n",
       "      <td>18000</td>\n",
       "      <td>10</td>\n",
       "      <td>8</td>\n",
       "      <td>2</td>\n",
       "      <td>2</td>\n",
       "      <td>1.00</td>\n",
       "      <td>20161102</td>\n",
       "      <td>20161124</td>\n",
       "      <td>340008</td>\n",
       "      <td>340006</td>\n",
       "    </tr>\n",
       "  </tbody>\n",
       "</table>\n",
       "</div>"
      ],
      "text/plain": [
       "      account trans_id prod_id  amount trans_date  sum_account  row_nums  \\\n",
       "0  1000273675   200208  340008  2000.0   20161101         2000         1   \n",
       "1  1000273675   200208  340006  2000.0   20161101        14000         8   \n",
       "2  1000273675   100209  340008  2000.0   20161102         4000         2   \n",
       "3  1000273675   100209  340006  2000.0   20161102        16000         9   \n",
       "4  1000273675   100209  340006  2000.0   20161102        18000        10   \n",
       "\n",
       "   rank  dense_rank  ntile  cume_dist     lag_1    lead_3 first_value  \\\n",
       "0     1           1      1       0.54    filled  20161102      340008   \n",
       "1     8           2      2       1.00  20161101  20161102      340008   \n",
       "2     1           1      1       0.54  20161101  20161103      340008   \n",
       "3     8           2      2       1.00  20161102  20161103      340008   \n",
       "4     8           2      2       1.00  20161102  20161124      340008   \n",
       "\n",
       "  last_value  \n",
       "0     340006  \n",
       "1     340006  \n",
       "2     340006  \n",
       "3     340006  \n",
       "4     340006  "
      ]
     },
     "execution_count": 4,
     "metadata": {},
     "output_type": "execute_result"
    }
   ],
   "source": [
    "# 时间窗格操作  - 还有 ROLLUP、CUBE、GROUPING SETS、GROUPING__ID 可以查，主要是扩充分组的维度（年、月、日...）\n",
    "# 各种组合起来\n",
    "spark.sql(\"select account, trans_id, prod_id, amount,trans_date,  \" + \n",
    "          \" sum(amount) OVER(partition by account order by prod_id desc \" + \n",
    "          \" rows between unbounded preceding and current row) sum_account,  \"+\n",
    "          \" row_number() OVER(partition by account order by prod_id desc) row_nums, \" + \n",
    "          \" rank() OVER(partition by account order by prod_id desc) rank, \" + \n",
    "          \" dense_rank() OVER(partition by account order by prod_id desc) dense_rank,  \" + \n",
    "          \" ntile(2) OVER(partition by account order by prod_id desc) ntile,   \" + \n",
    "          \" round(cume_dist() OVER(partition by account order by prod_id desc),2) cume_dist,  \" + \n",
    "          \" lag(trans_date,1 , 'filled') OVER(partition by account order by trans_date) lag_1,  \" + \n",
    "          \" lead(trans_date,3 , 'filled') OVER(partition by account order by trans_date) lead_3,  \" + \n",
    "          \" first(prod_id) OVER(partition by account order by trans_date ) first_value,  \" + \n",
    "          \" last(prod_id) OVER(partition by account order by trans_date ) last_value  \" + \n",
    "          \" from trans\").toPandas().head(5)"
   ]
  },
  {
   "cell_type": "code",
   "execution_count": 13,
   "metadata": {
    "collapsed": false
   },
   "outputs": [
    {
     "name": "stdout",
     "output_type": "stream",
     "text": [
      "(4055, 8)\n",
      "(4320, 9)\n",
      "(12662, 9)\n"
     ]
    }
   ],
   "source": [
    "print spark.sql(\"select * from trans TABLESAMPLE(10 Percent) s\").toPandas().shape\n",
    "print spark.sql('''with tab1 as (\n",
    "select *,cast(rand()*100 as int) as rand_index from trans\n",
    ")\n",
    "select * from tab1\n",
    "where rand_index <= 10''').toPandas().shape\n",
    "\n",
    "print spark.sql('''with tab1 as (\n",
    "select *, row_number() OVER(partition by account order by amount) as row_nums from trans\n",
    "),tab2 as (\n",
    "select account , max(row_nums) max_nums from tab1\n",
    "group by account)\n",
    "select t1.* from tab1 as t1 left join tab2 as t2\n",
    "on t1.account = t2.account\n",
    "where t1.row_nums/t2.max_nums < 0.5\n",
    "''').toPandas().shape"
   ]
  },
  {
   "cell_type": "code",
   "execution_count": 21,
   "metadata": {
    "collapsed": false
   },
   "outputs": [
    {
     "name": "stdout",
     "output_type": "stream",
     "text": [
      "(8835, 8)\n"
     ]
    }
   ],
   "source": [
    "print spark.sql('''(select * from trans TABLESAMPLE(10 Percent) s\n",
    "where trans_way = \"网上银行\")\n",
    "union\n",
    "(select * from trans TABLESAMPLE(80 Percent) s2\n",
    "where trans_way != \"网上银行\")\n",
    "''').toPandas().shape\n",
    "\n",
    "\n",
    "print spark.sql('''(select * from trans TABLESAMPLE(10 Percent) s\n",
    "where trans_way = \"网上银行\")\n",
    "union\n",
    "(select * from trans TABLESAMPLE(80 Percent) s2\n",
    "where trans_way != \"网上银行\")\n",
    "''').toPandas().shape"
   ]
  },
  {
   "cell_type": "code",
   "execution_count": 45,
   "metadata": {
    "collapsed": false
   },
   "outputs": [
    {
     "data": {
      "text/html": [
       "<div>\n",
       "<table border=\"1\" class=\"dataframe\">\n",
       "  <thead>\n",
       "    <tr style=\"text-align: right;\">\n",
       "      <th></th>\n",
       "      <th>(CAST(datediff(CAST(CAST(t2 AS STRING) AS DATE), CAST(from_unixtime(unix_timestamp(2015.12.31, yyyy.MM.dd), yyyy-MM-dd HH:mm:ss) AS DATE)) AS DOUBLE) / CAST(30 AS DOUBLE))</th>\n",
       "    </tr>\n",
       "  </thead>\n",
       "  <tbody>\n",
       "    <tr>\n",
       "      <th>0</th>\n",
       "      <td>9.866667</td>\n",
       "    </tr>\n",
       "    <tr>\n",
       "      <th>1</th>\n",
       "      <td>9.866667</td>\n",
       "    </tr>\n",
       "    <tr>\n",
       "      <th>2</th>\n",
       "      <td>9.866667</td>\n",
       "    </tr>\n",
       "    <tr>\n",
       "      <th>3</th>\n",
       "      <td>9.866667</td>\n",
       "    </tr>\n",
       "    <tr>\n",
       "      <th>4</th>\n",
       "      <td>9.866667</td>\n",
       "    </tr>\n",
       "    <tr>\n",
       "      <th>5</th>\n",
       "      <td>9.866667</td>\n",
       "    </tr>\n",
       "    <tr>\n",
       "      <th>6</th>\n",
       "      <td>9.866667</td>\n",
       "    </tr>\n",
       "    <tr>\n",
       "      <th>7</th>\n",
       "      <td>9.866667</td>\n",
       "    </tr>\n",
       "    <tr>\n",
       "      <th>8</th>\n",
       "      <td>9.866667</td>\n",
       "    </tr>\n",
       "  </tbody>\n",
       "</table>\n",
       "</div>"
      ],
      "text/plain": [
       "   (CAST(datediff(CAST(CAST(t2 AS STRING) AS DATE), CAST(from_unixtime(unix_timestamp(2015.12.31, yyyy.MM.dd), yyyy-MM-dd HH:mm:ss) AS DATE)) AS DOUBLE) / CAST(30 AS DOUBLE))\n",
       "0                                           9.866667                                                                                                                          \n",
       "1                                           9.866667                                                                                                                          \n",
       "2                                           9.866667                                                                                                                          \n",
       "3                                           9.866667                                                                                                                          \n",
       "4                                           9.866667                                                                                                                          \n",
       "5                                           9.866667                                                                                                                          \n",
       "6                                           9.866667                                                                                                                          \n",
       "7                                           9.866667                                                                                                                          \n",
       "8                                           9.866667                                                                                                                          "
      ]
     },
     "execution_count": 45,
     "metadata": {},
     "output_type": "execute_result"
    }
   ],
   "source": [
    "spark.sql(\"select cast(trans_date as string) from trans limit 5\").toPandas()\n",
    "# cast(trans_date as string)\n",
    "# date_add(to_date(trans_date,'yyyyMMdd'),2)\n",
    "df1 = spark.sql(\"select trans_id, from_unixtime(unix_timestamp(trans_date,'yyyyMMdd')) as t1 from trans limit 5\")\n",
    "df2 = spark.sql(\"select trans_id, from_unixtime(unix_timestamp(trans_date,'yyyyMMdd') + 3600*24*5) as t2 from trans limit 5\")\n",
    "df1.registerTempTable('df1')\n",
    "df2.registerTempTable('df2')\n",
    "spark.sql(\"select datediff((cast(t2 as string)),from_unixtime(unix_timestamp('2015.12.31','yyyy.MM.dd')))/30 from df1 join df2 on df1.trans_id = df2.trans_id\").toPandas()\n",
    "\n",
    "# spark.sql(\"select datediff(substring(cast(t2 as string),0,10),substring(cast(t1 as string),0,10)) from df1 join df2 on df1.trans_id = df2.trans_id\").toPandas()"
   ]
  },
  {
   "cell_type": "code",
   "execution_count": 9,
   "metadata": {
    "collapsed": false
   },
   "outputs": [
    {
     "name": "stdout",
     "output_type": "stream",
     "text": [
      "+--------------------------------------------------------+\n",
      "|percentile(CAST(amount AS DOUBLE), CAST(0.55 AS DOUBLE))|\n",
      "+--------------------------------------------------------+\n",
      "|                                                   400.0|\n",
      "+--------------------------------------------------------+\n",
      "\n"
     ]
    }
   ],
   "source": [
    "spark.sql(\"select percentile(amount,0.55) from trans\").show()"
   ]
  },
  {
   "cell_type": "code",
   "execution_count": 53,
   "metadata": {
    "collapsed": false
   },
   "outputs": [
    {
     "name": "stdout",
     "output_type": "stream",
     "text": [
      "+--------------------------------------------------------------------------+\n",
      "|from_unixtime(unix_timestamp(2015.12.31, yyyy.MM.dd), yyyy-MM-dd HH:mm:ss)|\n",
      "+--------------------------------------------------------------------------+\n",
      "|                                                       2015-12-31 00:00:00|\n",
      "+--------------------------------------------------------------------------+\n",
      "\n",
      "+------------------------------------------+\n",
      "|to_date(CAST(2015-12-31 00:00:00 AS DATE))|\n",
      "+------------------------------------------+\n",
      "|                                2015-12-31|\n",
      "+------------------------------------------+\n",
      "\n"
     ]
    }
   ],
   "source": [
    "spark.sql(\"select from_unixtime(unix_timestamp('2015.12.31','yyyy.MM.dd'))\").show()\n",
    "\n",
    "# spark.sql(\"select to_date('2015.12.31','yyyy.MM.dd')\").show()\n",
    "# 2015-12-31 00:00:00\n",
    "spark.sql(\"select to_date('2015-12-31 00:00:00')\").show()\n"
   ]
  },
  {
   "cell_type": "code",
   "execution_count": 34,
   "metadata": {
    "collapsed": false
   },
   "outputs": [
    {
     "data": {
      "text/html": [
       "<div>\n",
       "<table border=\"1\" class=\"dataframe\">\n",
       "  <thead>\n",
       "    <tr style=\"text-align: right;\">\n",
       "      <th></th>\n",
       "      <th>account</th>\n",
       "      <th>trans_id</th>\n",
       "      <th>trans_name</th>\n",
       "      <th>trans_date</th>\n",
       "      <th>prod_id</th>\n",
       "      <th>prod_name</th>\n",
       "      <th>trans_way</th>\n",
       "      <th>amount</th>\n",
       "    </tr>\n",
       "  </thead>\n",
       "  <tbody>\n",
       "    <tr>\n",
       "      <th>0</th>\n",
       "      <td>1000273675</td>\n",
       "      <td>200208</td>\n",
       "      <td>定期定额处理</td>\n",
       "      <td>20161101</td>\n",
       "      <td>340006</td>\n",
       "      <td>兴全全球视野</td>\n",
       "      <td>手机银行</td>\n",
       "      <td>2000.0</td>\n",
       "    </tr>\n",
       "  </tbody>\n",
       "</table>\n",
       "</div>"
      ],
      "text/plain": [
       "      account trans_id trans_name trans_date prod_id prod_name trans_way  \\\n",
       "0  1000273675   200208     定期定额处理   20161101  340006    兴全全球视野      手机银行   \n",
       "\n",
       "   amount  \n",
       "0  2000.0  "
      ]
     },
     "execution_count": 34,
     "metadata": {},
     "output_type": "execute_result"
    }
   ],
   "source": [
    "# CTE Common Table Expression - 另一种子查询方式，看着更整齐一些\n",
    "spark.sql(\"with q1 as (select * from trans where account = '1000273675')  select * from q1\").toPandas().head(1)"
   ]
  },
  {
   "cell_type": "code",
   "execution_count": 35,
   "metadata": {
    "collapsed": false
   },
   "outputs": [
    {
     "data": {
      "text/html": [
       "<div>\n",
       "<table border=\"1\" class=\"dataframe\">\n",
       "  <thead>\n",
       "    <tr style=\"text-align: right;\">\n",
       "      <th></th>\n",
       "      <th>account</th>\n",
       "      <th>trans_id</th>\n",
       "      <th>trans_name</th>\n",
       "      <th>trans_date</th>\n",
       "      <th>prod_id</th>\n",
       "      <th>prod_name</th>\n",
       "      <th>trans_way</th>\n",
       "      <th>amount</th>\n",
       "    </tr>\n",
       "  </thead>\n",
       "  <tbody>\n",
       "    <tr>\n",
       "      <th>0</th>\n",
       "      <td>1000527030</td>\n",
       "      <td>200208</td>\n",
       "      <td>定期定额处理</td>\n",
       "      <td>20161017</td>\n",
       "      <td>161613</td>\n",
       "      <td>融通创业板指数前端</td>\n",
       "      <td>网上银行</td>\n",
       "      <td>600.0</td>\n",
       "    </tr>\n",
       "    <tr>\n",
       "      <th>1</th>\n",
       "      <td>1000482458</td>\n",
       "      <td>200208</td>\n",
       "      <td>定期定额处理</td>\n",
       "      <td>20161017</td>\n",
       "      <td>320006</td>\n",
       "      <td>诺安灵活配置</td>\n",
       "      <td>网上银行</td>\n",
       "      <td>400.0</td>\n",
       "    </tr>\n",
       "    <tr>\n",
       "      <th>2</th>\n",
       "      <td>1000273675</td>\n",
       "      <td>200208</td>\n",
       "      <td>定期定额处理</td>\n",
       "      <td>20161101</td>\n",
       "      <td>340006</td>\n",
       "      <td>兴全全球视野</td>\n",
       "      <td>手机银行</td>\n",
       "      <td>2000.0</td>\n",
       "    </tr>\n",
       "    <tr>\n",
       "      <th>3</th>\n",
       "      <td>1000273675</td>\n",
       "      <td>200208</td>\n",
       "      <td>定期定额处理</td>\n",
       "      <td>20161101</td>\n",
       "      <td>340008</td>\n",
       "      <td>兴全有机增长</td>\n",
       "      <td>手机银行</td>\n",
       "      <td>2000.0</td>\n",
       "    </tr>\n",
       "    <tr>\n",
       "      <th>4</th>\n",
       "      <td>1000273675</td>\n",
       "      <td>100209</td>\n",
       "      <td>定期定额修改</td>\n",
       "      <td>20161102</td>\n",
       "      <td>340006</td>\n",
       "      <td>兴全全球视野</td>\n",
       "      <td>网上银行</td>\n",
       "      <td>2000.0</td>\n",
       "    </tr>\n",
       "  </tbody>\n",
       "</table>\n",
       "</div>"
      ],
      "text/plain": [
       "      account trans_id trans_name trans_date prod_id  prod_name trans_way  \\\n",
       "0  1000527030   200208     定期定额处理   20161017  161613  融通创业板指数前端      网上银行   \n",
       "1  1000482458   200208     定期定额处理   20161017  320006     诺安灵活配置      网上银行   \n",
       "2  1000273675   200208     定期定额处理   20161101  340006     兴全全球视野      手机银行   \n",
       "3  1000273675   200208     定期定额处理   20161101  340008     兴全有机增长      手机银行   \n",
       "4  1000273675   100209     定期定额修改   20161102  340006     兴全全球视野      网上银行   \n",
       "\n",
       "   amount  \n",
       "0   600.0  \n",
       "1   400.0  \n",
       "2  2000.0  \n",
       "3  2000.0  \n",
       "4  2000.0  "
      ]
     },
     "execution_count": 35,
     "metadata": {},
     "output_type": "execute_result"
    }
   ],
   "source": [
    "# array_contains\n",
    "spark.sql(\"select * from trans where array_contains(split('1000273675,1000482458,1000527030' , ',') ,  account)\").toPandas().head()"
   ]
  },
  {
   "cell_type": "code",
   "execution_count": 36,
   "metadata": {
    "collapsed": false,
    "scrolled": true
   },
   "outputs": [
    {
     "name": "stdout",
     "output_type": "stream",
     "text": [
      "+------------------------------------+\n",
      "|unix_timestamp(trans_date, yyyyMMdd)|\n",
      "+------------------------------------+\n",
      "|                          1476633600|\n",
      "+------------------------------------+\n",
      "\n",
      "+------------------------------------------------------------------------+\n",
      "|from_unixtime(unix_timestamp(trans_date, yyyyMMdd), yyyy-MM-dd HH:mm:ss)|\n",
      "+------------------------------------------------------------------------+\n",
      "|                                                     2016-10-17 00:00:00|\n",
      "+------------------------------------------------------------------------+\n",
      "\n",
      "+----------------------------------------+\n",
      "|month(CAST(2011-12-08 10:03:01 AS DATE))|\n",
      "+----------------------------------------+\n",
      "|                                      12|\n",
      "+----------------------------------------+\n",
      "\n"
     ]
    }
   ],
   "source": [
    "# 转化日期时间为 时间戳    unix_timestamp(time ,  format)\n",
    "spark.sql(\"select unix_timestamp(trans_date,'yyyyMMdd') from trans limit 1\").show()\n",
    "\n",
    "# 转化时间戳为日期时间     from_unixtime(time , format)\n",
    "spark.sql(\"select from_unixtime(unix_timestamp(trans_date,'yyyyMMdd'), 'yyyy-MM-dd HH:mm:ss') from trans limit 1\").show()\n",
    "\n",
    "# year, month, day, weekofyear  方法  yyyy-MM-dd HH:mm:ss    yyyy-MM-dd\n",
    "# hour, minute, second, to_date, date_add, date_sub, datediff 方法 yyyy-MM-dd\n",
    "spark.sql(\"select month('2011-12-08 10:03:01')\").show()"
   ]
  },
  {
   "cell_type": "code",
   "execution_count": 23,
   "metadata": {
    "collapsed": false
   },
   "outputs": [
    {
     "data": {
      "text/html": [
       "<div>\n",
       "<table border=\"1\" class=\"dataframe\">\n",
       "  <thead>\n",
       "    <tr style=\"text-align: right;\">\n",
       "      <th></th>\n",
       "      <th>reg_rep</th>\n",
       "    </tr>\n",
       "  </thead>\n",
       "  <tbody>\n",
       "    <tr>\n",
       "      <th>0</th>\n",
       "      <td>傻瓜定投开通</td>\n",
       "    </tr>\n",
       "    <tr>\n",
       "      <th>1</th>\n",
       "      <td>傻瓜定额处理</td>\n",
       "    </tr>\n",
       "    <tr>\n",
       "      <th>2</th>\n",
       "      <td>傻瓜定额处理</td>\n",
       "    </tr>\n",
       "  </tbody>\n",
       "</table>\n",
       "</div>"
      ],
      "text/plain": [
       "  reg_rep\n",
       "0  傻瓜定投开通\n",
       "1  傻瓜定额处理\n",
       "2  傻瓜定额处理"
      ]
     },
     "execution_count": 23,
     "metadata": {},
     "output_type": "execute_result"
    }
   ],
   "source": [
    "# regexp_replace 按照正则替换字符串\n",
    "# regexp_replace(string A, string B, string C)\n",
    "spark.sql(''' select regexp_replace(trans_name, substring(cast(trans_name as string),1,2), '傻瓜') reg_rep from trans where account = '1003089018' ''').toPandas()\n",
    "\n",
    "# spark.sql(''' select replace(trans_name,'智能','傻瓜') from trans''').toPandas()\n",
    "\n",
    "\n",
    "\n",
    "# spark.sql(''' select  replace(trans_name,substring(cast(trans_name as string),1,2),'12') from trans''').toPandas()"
   ]
  },
  {
   "cell_type": "code",
   "execution_count": 38,
   "metadata": {
    "collapsed": false
   },
   "outputs": [
    {
     "name": "stdout",
     "output_type": "stream",
     "text": [
      "      account trans_id trans_name trans_date prod_id prod_name trans_way  \\\n",
      "0  1003089018   200208     定期定额处理   20161117  020003    国泰金龙行业      网上银行   \n",
      "1  1003089018   200208     定期定额处理   20161219  020003    国泰金龙行业      网上银行   \n",
      "\n",
      "   amount  \n",
      "0  1000.0  \n",
      "1  1000.0  \n"
     ]
    },
    {
     "data": {
      "text/html": [
       "<div>\n",
       "<table border=\"1\" class=\"dataframe\">\n",
       "  <thead>\n",
       "    <tr style=\"text-align: right;\">\n",
       "      <th></th>\n",
       "      <th>account</th>\n",
       "      <th>trans_id</th>\n",
       "      <th>trans_name</th>\n",
       "      <th>trans_date</th>\n",
       "      <th>prod_id</th>\n",
       "      <th>prod_name</th>\n",
       "      <th>trans_way</th>\n",
       "      <th>amount</th>\n",
       "    </tr>\n",
       "  </thead>\n",
       "  <tbody>\n",
       "    <tr>\n",
       "      <th>0</th>\n",
       "      <td>1003089018</td>\n",
       "      <td>100541</td>\n",
       "      <td>智能定投开通</td>\n",
       "      <td>20161017</td>\n",
       "      <td>020003</td>\n",
       "      <td>国泰金龙行业</td>\n",
       "      <td>网上银行</td>\n",
       "      <td>1000.0</td>\n",
       "    </tr>\n",
       "  </tbody>\n",
       "</table>\n",
       "</div>"
      ],
      "text/plain": [
       "      account trans_id trans_name trans_date prod_id prod_name trans_way  \\\n",
       "0  1003089018   100541     智能定投开通   20161017  020003    国泰金龙行业      网上银行   \n",
       "\n",
       "   amount  \n",
       "0  1000.0  "
      ]
     },
     "execution_count": 38,
     "metadata": {},
     "output_type": "execute_result"
    }
   ],
   "source": [
    "# regexp_extract 按照规则拆分字符串,选择需要的index,index含义是第几个括号，0为匹配的所有\n",
    "# regexp_extract(string subject, string pattern, int index)\n",
    "print spark.sql(''' select * from trans where account = '1003089018' and regexp_extract(trans_name, '智能', 0) = '' ''').toPandas()\n",
    "\n",
    "spark.sql(''' select * from trans where account = '1003089018' and regexp_extract(trans_name, '智能', 0) != '' ''').toPandas()"
   ]
  },
  {
   "cell_type": "code",
   "execution_count": 54,
   "metadata": {
    "collapsed": false
   },
   "outputs": [
    {
     "data": {
      "text/html": [
       "<div>\n",
       "<table border=\"1\" class=\"dataframe\">\n",
       "  <thead>\n",
       "    <tr style=\"text-align: right;\">\n",
       "      <th></th>\n",
       "      <th>regexp_extract(x=a3&amp;x=18abc&amp;x=2&amp;y=3&amp;x=4, x=([0-9]+)([a-z]+), 0)</th>\n",
       "      <th>regexp_extract(x=a3&amp;x=18abc&amp;x=2&amp;y=3&amp;x=4, ^x=([a-z]+)([0-9]+), 0)</th>\n",
       "      <th>regexp_extract(https://detail.tmall.com/item.htm?spm=608.7065813.ne.1.Ni3rsN&amp;id=&amp;tracelog=fromnonactive, ([0-9]+), 1)</th>\n",
       "      <th>regexp_extract(https://detail.tmall.com/item.htm?spm=608.7065813.ne.1.Ni3rsN&amp;id=522228774076&amp;tracelog=fromnonactive, id=([0-9]+), 1)</th>\n",
       "      <th>regexp_extract(http://a.m.taobao.com/i41915173660.htm, i([0-9]+), 0)</th>\n",
       "      <th>regexp_extract(http://a.m.taobao.com/i41915173660.htm, i([0-9]+), 1)</th>\n",
       "    </tr>\n",
       "  </thead>\n",
       "  <tbody>\n",
       "    <tr>\n",
       "      <th>0</th>\n",
       "      <td>x=18abc</td>\n",
       "      <td>x=a3</td>\n",
       "      <td>608</td>\n",
       "      <td>522228774076</td>\n",
       "      <td>i41915173660</td>\n",
       "      <td>41915173660</td>\n",
       "    </tr>\n",
       "  </tbody>\n",
       "</table>\n",
       "</div>"
      ],
      "text/plain": [
       "  regexp_extract(x=a3&x=18abc&x=2&y=3&x=4, x=([0-9]+)([a-z]+), 0)  \\\n",
       "0                                            x=18abc                \n",
       "\n",
       "  regexp_extract(x=a3&x=18abc&x=2&y=3&x=4, ^x=([a-z]+)([0-9]+), 0)  \\\n",
       "0                                               x=a3                 \n",
       "\n",
       "  regexp_extract(https://detail.tmall.com/item.htm?spm=608.7065813.ne.1.Ni3rsN&id=&tracelog=fromnonactive, ([0-9]+), 1)  \\\n",
       "0                                                608                                                                      \n",
       "\n",
       "  regexp_extract(https://detail.tmall.com/item.htm?spm=608.7065813.ne.1.Ni3rsN&id=522228774076&tracelog=fromnonactive, id=([0-9]+), 1)  \\\n",
       "0                                       522228774076                                                                                     \n",
       "\n",
       "  regexp_extract(http://a.m.taobao.com/i41915173660.htm, i([0-9]+), 0)  \\\n",
       "0                                       i41915173660                     \n",
       "\n",
       "  regexp_extract(http://a.m.taobao.com/i41915173660.htm, i([0-9]+), 1)  \n",
       "0                                        41915173660                    "
      ]
     },
     "execution_count": 54,
     "metadata": {},
     "output_type": "execute_result"
    }
   ],
   "source": [
    "spark.sql('''select\n",
    "regexp_extract('x=a3&x=18abc&x=2&y=3&x=4','x=([0-9]+)([a-z]+)',0),  \n",
    "regexp_extract('x=a3&x=18abc&x=2&y=3&x=4','^x=([a-z]+)([0-9]+)',0),\n",
    " \n",
    "regexp_extract('https://detail.tmall.com/item.htm?spm=608.7065813.ne.1.Ni3rsN&id=&tracelog=fromnonactive','([0-9]+)',1), \n",
    "regexp_extract('https://detail.tmall.com/item.htm?spm=608.7065813.ne.1.Ni3rsN&id=522228774076&tracelog=fromnonactive','id=([0-9]+)',1), \n",
    " \n",
    "regexp_extract('http://a.m.taobao.com/i41915173660.htm','i([0-9]+)',0), \n",
    "regexp_extract('http://a.m.taobao.com/i41915173660.htm','i([0-9]+)',1) \n",
    "''').toPandas()"
   ]
  },
  {
   "cell_type": "code",
   "execution_count": 49,
   "metadata": {
    "collapsed": true
   },
   "outputs": [],
   "source": [
    "from sklearn.metrics import classification_report\n",
    "?classification_report()"
   ]
  },
  {
   "cell_type": "code",
   "execution_count": 104,
   "metadata": {
    "collapsed": false
   },
   "outputs": [
    {
     "data": {
      "text/html": [
       "<div>\n",
       "<table border=\"1\" class=\"dataframe\">\n",
       "  <thead>\n",
       "    <tr style=\"text-align: right;\">\n",
       "      <th></th>\n",
       "      <th>trans_id</th>\n",
       "      <th>unix_trans_time</th>\n",
       "      <th>count(1)</th>\n",
       "    </tr>\n",
       "  </thead>\n",
       "  <tbody>\n",
       "    <tr>\n",
       "      <th>0</th>\n",
       "      <td>100541</td>\n",
       "      <td>1476633600</td>\n",
       "      <td>1</td>\n",
       "    </tr>\n",
       "    <tr>\n",
       "      <th>1</th>\n",
       "      <td>200208</td>\n",
       "      <td>1479312000</td>\n",
       "      <td>1</td>\n",
       "    </tr>\n",
       "    <tr>\n",
       "      <th>2</th>\n",
       "      <td>200208</td>\n",
       "      <td>1482076800</td>\n",
       "      <td>2</td>\n",
       "    </tr>\n",
       "  </tbody>\n",
       "</table>\n",
       "</div>"
      ],
      "text/plain": [
       "  trans_id  unix_trans_time  count(1)\n",
       "0   100541       1476633600         1\n",
       "1   200208       1479312000         1\n",
       "2   200208       1482076800         2"
      ]
     },
     "execution_count": 104,
     "metadata": {},
     "output_type": "execute_result"
    }
   ],
   "source": [
    "# 同账户下，过去24h购买产品的个数\n",
    "# key 是交易id和交易时间的组合\n",
    "spark.sql('''with cum as (select  trans_id, account , unix_timestamp(trans_date,'yyyyMMdd')  unix_trans_time  from  trans)\n",
    "            select  c1.trans_id ,c1.unix_trans_time, count(*) from cum c1 left outer join cum c2 on c1.account = c2.account\n",
    "            and c1.unix_trans_time -  c2.unix_trans_time > 24*60*60 \n",
    "            where c1.account = '1003089018' \n",
    "            group by c1.trans_id, c1.unix_trans_time ''').toPandas()"
   ]
  },
  {
   "cell_type": "code",
   "execution_count": 8,
   "metadata": {
    "collapsed": false,
    "scrolled": true
   },
   "outputs": [
    {
     "data": {
      "text/html": [
       "<div>\n",
       "<table border=\"1\" class=\"dataframe\">\n",
       "  <thead>\n",
       "    <tr style=\"text-align: right;\">\n",
       "      <th></th>\n",
       "      <th>account</th>\n",
       "      <th>round((stddev_samp(CAST((unix_lag_time - unix_trans_time) AS DOUBLE)) / CAST(3600 AS DOUBLE)), 2)</th>\n",
       "    </tr>\n",
       "  </thead>\n",
       "  <tbody>\n",
       "    <tr>\n",
       "      <th>0</th>\n",
       "      <td>1000273675</td>\n",
       "      <td>16581.15</td>\n",
       "    </tr>\n",
       "    <tr>\n",
       "      <th>1</th>\n",
       "      <td>1000283935</td>\n",
       "      <td>42120.94</td>\n",
       "    </tr>\n",
       "    <tr>\n",
       "      <th>2</th>\n",
       "      <td>1000482458</td>\n",
       "      <td>24156.30</td>\n",
       "    </tr>\n",
       "    <tr>\n",
       "      <th>3</th>\n",
       "      <td>1000527030</td>\n",
       "      <td>29520.90</td>\n",
       "    </tr>\n",
       "    <tr>\n",
       "      <th>4</th>\n",
       "      <td>1000558961</td>\n",
       "      <td>NaN</td>\n",
       "    </tr>\n",
       "  </tbody>\n",
       "</table>\n",
       "</div>"
      ],
      "text/plain": [
       "      account  \\\n",
       "0  1000273675   \n",
       "1  1000283935   \n",
       "2  1000482458   \n",
       "3  1000527030   \n",
       "4  1000558961   \n",
       "\n",
       "   round((stddev_samp(CAST((unix_lag_time - unix_trans_time) AS DOUBLE)) / CAST(3600 AS DOUBLE)), 2)  \n",
       "0                                           16581.15                                                  \n",
       "1                                           42120.94                                                  \n",
       "2                                           24156.30                                                  \n",
       "3                                           29520.90                                                  \n",
       "4                                                NaN                                                  "
      ]
     },
     "execution_count": 8,
     "metadata": {},
     "output_type": "execute_result"
    }
   ],
   "source": [
    "# 同账户下，购买产品的时间间隔的标准差\n",
    "# key 是账户\n",
    "spark.sql('''with cum as (select  account , unix_timestamp(trans_date,'yyyyMMdd') unix_trans_time , \n",
    "            unix_timestamp(lag(trans_date, 1 , '20100101') over(partition by account order by trans_date),'yyyyMMdd') unix_lag_time from  trans)\n",
    "            select account,  round(std(unix_lag_time - unix_trans_time)/3600,2)\n",
    "            from cum group by account''').toPandas().head()"
   ]
  },
  {
   "cell_type": "code",
   "execution_count": 9,
   "metadata": {
    "collapsed": false
   },
   "outputs": [
    {
     "data": {
      "text/html": [
       "<div>\n",
       "<table border=\"1\" class=\"dataframe\">\n",
       "  <thead>\n",
       "    <tr style=\"text-align: right;\">\n",
       "      <th></th>\n",
       "      <th>trans_id</th>\n",
       "      <th>account</th>\n",
       "      <th>now_max_rate</th>\n",
       "    </tr>\n",
       "  </thead>\n",
       "  <tbody>\n",
       "    <tr>\n",
       "      <th>0</th>\n",
       "      <td>100541</td>\n",
       "      <td>1003089018</td>\n",
       "      <td>1</td>\n",
       "    </tr>\n",
       "    <tr>\n",
       "      <th>1</th>\n",
       "      <td>100208</td>\n",
       "      <td>1001232639</td>\n",
       "      <td>1</td>\n",
       "    </tr>\n",
       "    <tr>\n",
       "      <th>2</th>\n",
       "      <td>100208</td>\n",
       "      <td>1001232639</td>\n",
       "      <td>1</td>\n",
       "    </tr>\n",
       "    <tr>\n",
       "      <th>3</th>\n",
       "      <td>100541</td>\n",
       "      <td>1003275159</td>\n",
       "      <td>1</td>\n",
       "    </tr>\n",
       "    <tr>\n",
       "      <th>4</th>\n",
       "      <td>100208</td>\n",
       "      <td>1003276023</td>\n",
       "      <td>1</td>\n",
       "    </tr>\n",
       "  </tbody>\n",
       "</table>\n",
       "</div>"
      ],
      "text/plain": [
       "  trans_id     account  now_max_rate\n",
       "0   100541  1003089018             1\n",
       "1   100208  1001232639             1\n",
       "2   100208  1001232639             1\n",
       "3   100541  1003275159             1\n",
       "4   100208  1003276023             1"
      ]
     },
     "execution_count": 9,
     "metadata": {},
     "output_type": "execute_result"
    }
   ],
   "source": [
    "# 同账户下，历史最大交易金额 和 当前交易金额的 比例\n",
    "spark.sql('''with cum as (select  account , row_number() over(partition by account order by amount desc) row_nums, amount from trans)\n",
    "        select trans.trans_id, trans.account, round(trans.amount / cum.amount, 2) now_max_rate\n",
    "        from trans left join cum on cum.row_nums = 1 and trans.account = cum.account\n",
    "        where round(trans.amount / cum.amount, 2) is not null''').toPandas().head()\n",
    "#         ''').show()\n",
    "# .toPandas().head()\n",
    "        "
   ]
  },
  {
   "cell_type": "code",
   "execution_count": 82,
   "metadata": {
    "collapsed": true
   },
   "outputs": [],
   "source": [
    "# 空判断\n",
    "# 1. is null  \"\\N\"     2. = \"\""
   ]
  },
  {
   "cell_type": "code",
   "execution_count": null,
   "metadata": {
    "collapsed": true
   },
   "outputs": [],
   "source": []
  },
  {
   "cell_type": "code",
   "execution_count": null,
   "metadata": {
    "collapsed": true
   },
   "outputs": [],
   "source": []
  },
  {
   "cell_type": "code",
   "execution_count": 9,
   "metadata": {
    "collapsed": false
   },
   "outputs": [
    {
     "data": {
      "text/html": [
       "<div>\n",
       "<table border=\"1\" class=\"dataframe\">\n",
       "  <thead>\n",
       "    <tr style=\"text-align: right;\">\n",
       "      <th></th>\n",
       "      <th>account</th>\n",
       "      <th>trans_id</th>\n",
       "      <th>trans_name</th>\n",
       "      <th>trans_date</th>\n",
       "      <th>prod_id</th>\n",
       "      <th>prod_name</th>\n",
       "      <th>trans_way</th>\n",
       "      <th>amount</th>\n",
       "    </tr>\n",
       "  </thead>\n",
       "  <tbody>\n",
       "    <tr>\n",
       "      <th>0</th>\n",
       "      <td>1003089018</td>\n",
       "      <td>100541</td>\n",
       "      <td>智能定投开通</td>\n",
       "      <td>20161017</td>\n",
       "      <td>020003</td>\n",
       "      <td>国泰金龙行业</td>\n",
       "      <td>网上银行</td>\n",
       "      <td>1000.0</td>\n",
       "    </tr>\n",
       "    <tr>\n",
       "      <th>1</th>\n",
       "      <td>1001172983</td>\n",
       "      <td>100003</td>\n",
       "      <td>银行账户变更</td>\n",
       "      <td>20161017</td>\n",
       "      <td></td>\n",
       "      <td>None</td>\n",
       "      <td>网上银行</td>\n",
       "      <td>0.0</td>\n",
       "    </tr>\n",
       "    <tr>\n",
       "      <th>2</th>\n",
       "      <td>1001232639</td>\n",
       "      <td>100208</td>\n",
       "      <td>定期定额开通</td>\n",
       "      <td>20161017</td>\n",
       "      <td>100056</td>\n",
       "      <td>富国低碳环保</td>\n",
       "      <td>网上银行</td>\n",
       "      <td>100.0</td>\n",
       "    </tr>\n",
       "    <tr>\n",
       "      <th>3</th>\n",
       "      <td>1001232639</td>\n",
       "      <td>100208</td>\n",
       "      <td>定期定额开通</td>\n",
       "      <td>20161017</td>\n",
       "      <td>001616</td>\n",
       "      <td>嘉实环保低碳</td>\n",
       "      <td>网上银行</td>\n",
       "      <td>100.0</td>\n",
       "    </tr>\n",
       "    <tr>\n",
       "      <th>4</th>\n",
       "      <td>1003275159</td>\n",
       "      <td>100541</td>\n",
       "      <td>智能定投开通</td>\n",
       "      <td>20161017</td>\n",
       "      <td>000136</td>\n",
       "      <td>民生策略精选混合</td>\n",
       "      <td>网上银行</td>\n",
       "      <td>400.0</td>\n",
       "    </tr>\n",
       "  </tbody>\n",
       "</table>\n",
       "</div>"
      ],
      "text/plain": [
       "      account trans_id trans_name trans_date prod_id prod_name trans_way  \\\n",
       "0  1003089018   100541     智能定投开通   20161017  020003    国泰金龙行业      网上银行   \n",
       "1  1001172983   100003     银行账户变更   20161017              None      网上银行   \n",
       "2  1001232639   100208     定期定额开通   20161017  100056    富国低碳环保      网上银行   \n",
       "3  1001232639   100208     定期定额开通   20161017  001616    嘉实环保低碳      网上银行   \n",
       "4  1003275159   100541     智能定投开通   20161017  000136  民生策略精选混合      网上银行   \n",
       "\n",
       "   amount  \n",
       "0  1000.0  \n",
       "1     0.0  \n",
       "2   100.0  \n",
       "3   100.0  \n",
       "4   400.0  "
      ]
     },
     "execution_count": 9,
     "metadata": {},
     "output_type": "execute_result"
    }
   ],
   "source": [
    "trans.toPandas().head()"
   ]
  },
  {
   "cell_type": "code",
   "execution_count": 15,
   "metadata": {
    "collapsed": false
   },
   "outputs": [
    {
     "data": {
      "text/html": [
       "<div>\n",
       "<table border=\"1\" class=\"dataframe\">\n",
       "  <thead>\n",
       "    <tr style=\"text-align: right;\">\n",
       "      <th></th>\n",
       "      <th>trans_id</th>\n",
       "      <th>amountover100</th>\n",
       "    </tr>\n",
       "  </thead>\n",
       "  <tbody>\n",
       "    <tr>\n",
       "      <th>0</th>\n",
       "      <td>100541</td>\n",
       "      <td>020003</td>\n",
       "    </tr>\n",
       "    <tr>\n",
       "      <th>1</th>\n",
       "      <td>100003</td>\n",
       "      <td></td>\n",
       "    </tr>\n",
       "    <tr>\n",
       "      <th>2</th>\n",
       "      <td>100208</td>\n",
       "      <td>100056</td>\n",
       "    </tr>\n",
       "    <tr>\n",
       "      <th>3</th>\n",
       "      <td>100208</td>\n",
       "      <td>001616</td>\n",
       "    </tr>\n",
       "    <tr>\n",
       "      <th>4</th>\n",
       "      <td>100541</td>\n",
       "      <td>400.0</td>\n",
       "    </tr>\n",
       "  </tbody>\n",
       "</table>\n",
       "</div>"
      ],
      "text/plain": [
       "  trans_id amountover100\n",
       "0   100541        020003\n",
       "1   100003              \n",
       "2   100208        100056\n",
       "3   100208        001616\n",
       "4   100541         400.0"
      ]
     },
     "execution_count": 15,
     "metadata": {},
     "output_type": "execute_result"
    }
   ],
   "source": [
    "spark.sql('''select trans_id, (case when amount -prod_id > 100 then 'yes' else 'no' end) amountover100 from trans\n",
    "''').toPandas().head()\n",
    "\n",
    "spark.sql('''select trans_id, (case when amount -prod_id > 100 then amount else prod_id end) amountover100 from trans\n",
    "''').toPandas().head()\n",
    "\n",
    "# spark.sql('''select trans_id, (case when amount > 100 then prod_name else 'no' end) amountover100 from trans\n",
    "# ''').toPandas().head()"
   ]
  },
  {
   "cell_type": "code",
   "execution_count": null,
   "metadata": {
    "collapsed": true
   },
   "outputs": [],
   "source": []
  },
  {
   "cell_type": "code",
   "execution_count": 60,
   "metadata": {
    "collapsed": true
   },
   "outputs": [],
   "source": [
    "from pyspark.sql import functions as F"
   ]
  },
  {
   "cell_type": "code",
   "execution_count": null,
   "metadata": {
    "collapsed": true
   },
   "outputs": [],
   "source": [
    "trans."
   ]
  },
  {
   "cell_type": "code",
   "execution_count": 12,
   "metadata": {
    "collapsed": false
   },
   "outputs": [
    {
     "data": {
      "text/html": [
       "<div>\n",
       "<table border=\"1\" class=\"dataframe\">\n",
       "  <thead>\n",
       "    <tr style=\"text-align: right;\">\n",
       "      <th></th>\n",
       "      <th>account</th>\n",
       "      <th>trans_id</th>\n",
       "      <th>trans_name</th>\n",
       "      <th>trans_date</th>\n",
       "      <th>prod_id</th>\n",
       "      <th>prod_name</th>\n",
       "      <th>trans_way</th>\n",
       "      <th>amount</th>\n",
       "    </tr>\n",
       "  </thead>\n",
       "  <tbody>\n",
       "    <tr>\n",
       "      <th>0</th>\n",
       "      <td>1000527030</td>\n",
       "      <td>200208</td>\n",
       "      <td>定期定额处理</td>\n",
       "      <td>20161017</td>\n",
       "      <td>161613</td>\n",
       "      <td>融通创业板指数前端</td>\n",
       "      <td>网上银行</td>\n",
       "      <td>600.0</td>\n",
       "    </tr>\n",
       "    <tr>\n",
       "      <th>1</th>\n",
       "      <td>1000482458</td>\n",
       "      <td>200208</td>\n",
       "      <td>定期定额处理</td>\n",
       "      <td>20161017</td>\n",
       "      <td>320006</td>\n",
       "      <td>诺安灵活配置</td>\n",
       "      <td>网上银行</td>\n",
       "      <td>400.0</td>\n",
       "    </tr>\n",
       "    <tr>\n",
       "      <th>2</th>\n",
       "      <td>1000273675</td>\n",
       "      <td>200208</td>\n",
       "      <td>定期定额处理</td>\n",
       "      <td>20161101</td>\n",
       "      <td>340006</td>\n",
       "      <td>兴全全球视野</td>\n",
       "      <td>手机银行</td>\n",
       "      <td>2000.0</td>\n",
       "    </tr>\n",
       "    <tr>\n",
       "      <th>3</th>\n",
       "      <td>1000273675</td>\n",
       "      <td>200208</td>\n",
       "      <td>定期定额处理</td>\n",
       "      <td>20161101</td>\n",
       "      <td>340008</td>\n",
       "      <td>兴全有机增长</td>\n",
       "      <td>手机银行</td>\n",
       "      <td>2000.0</td>\n",
       "    </tr>\n",
       "    <tr>\n",
       "      <th>4</th>\n",
       "      <td>1000273675</td>\n",
       "      <td>100209</td>\n",
       "      <td>定期定额修改</td>\n",
       "      <td>20161102</td>\n",
       "      <td>340006</td>\n",
       "      <td>兴全全球视野</td>\n",
       "      <td>网上银行</td>\n",
       "      <td>2000.0</td>\n",
       "    </tr>\n",
       "  </tbody>\n",
       "</table>\n",
       "</div>"
      ],
      "text/plain": [
       "      account trans_id trans_name trans_date prod_id  prod_name trans_way  \\\n",
       "0  1000527030   200208     定期定额处理   20161017  161613  融通创业板指数前端      网上银行   \n",
       "1  1000482458   200208     定期定额处理   20161017  320006     诺安灵活配置      网上银行   \n",
       "2  1000273675   200208     定期定额处理   20161101  340006     兴全全球视野      手机银行   \n",
       "3  1000273675   200208     定期定额处理   20161101  340008     兴全有机增长      手机银行   \n",
       "4  1000273675   100209     定期定额修改   20161102  340006     兴全全球视野      网上银行   \n",
       "\n",
       "   amount  \n",
       "0   600.0  \n",
       "1   400.0  \n",
       "2  2000.0  \n",
       "3  2000.0  \n",
       "4  2000.0  "
      ]
     },
     "execution_count": 12,
     "metadata": {},
     "output_type": "execute_result"
    }
   ],
   "source": [
    "spark.sql(\"select * from trans where array_contains(split('1000273675,1000482458,1000527030' , ',') ,  account)\").toPandas().head()"
   ]
  },
  {
   "cell_type": "code",
   "execution_count": 15,
   "metadata": {
    "collapsed": false
   },
   "outputs": [
    {
     "data": {
      "text/html": [
       "<div>\n",
       "<table border=\"1\" class=\"dataframe\">\n",
       "  <thead>\n",
       "    <tr style=\"text-align: right;\">\n",
       "      <th></th>\n",
       "      <th>count(1)</th>\n",
       "    </tr>\n",
       "  </thead>\n",
       "  <tbody>\n",
       "    <tr>\n",
       "      <th>0</th>\n",
       "      <td>39636</td>\n",
       "    </tr>\n",
       "  </tbody>\n",
       "</table>\n",
       "</div>"
      ],
      "text/plain": [
       "   count(1)\n",
       "0     39636"
      ]
     },
     "execution_count": 15,
     "metadata": {},
     "output_type": "execute_result"
    }
   ],
   "source": [
    "spark.sql(\"select count(*) from trans\").toPandas().head()"
   ]
  },
  {
   "cell_type": "code",
   "execution_count": 17,
   "metadata": {
    "collapsed": false
   },
   "outputs": [
    {
     "data": {
      "text/html": [
       "<div>\n",
       "<table border=\"1\" class=\"dataframe\">\n",
       "  <thead>\n",
       "    <tr style=\"text-align: right;\">\n",
       "      <th></th>\n",
       "      <th>account</th>\n",
       "      <th>trans_date</th>\n",
       "      <th>amount</th>\n",
       "      <th>account</th>\n",
       "      <th>trans_date</th>\n",
       "      <th>amount</th>\n",
       "    </tr>\n",
       "  </thead>\n",
       "  <tbody>\n",
       "    <tr>\n",
       "      <th>0</th>\n",
       "      <td>1000000132</td>\n",
       "      <td>20161017</td>\n",
       "      <td>500.0</td>\n",
       "      <td>1000000132</td>\n",
       "      <td>20170103</td>\n",
       "      <td>500.0</td>\n",
       "    </tr>\n",
       "    <tr>\n",
       "      <th>1</th>\n",
       "      <td>1000000132</td>\n",
       "      <td>20161017</td>\n",
       "      <td>500.0</td>\n",
       "      <td>1000000132</td>\n",
       "      <td>20170103</td>\n",
       "      <td>500.0</td>\n",
       "    </tr>\n",
       "    <tr>\n",
       "      <th>2</th>\n",
       "      <td>1000000132</td>\n",
       "      <td>20161017</td>\n",
       "      <td>500.0</td>\n",
       "      <td>1000000132</td>\n",
       "      <td>20161219</td>\n",
       "      <td>500.0</td>\n",
       "    </tr>\n",
       "    <tr>\n",
       "      <th>3</th>\n",
       "      <td>1000000132</td>\n",
       "      <td>20161017</td>\n",
       "      <td>500.0</td>\n",
       "      <td>1000000132</td>\n",
       "      <td>20161219</td>\n",
       "      <td>500.0</td>\n",
       "    </tr>\n",
       "    <tr>\n",
       "      <th>4</th>\n",
       "      <td>1000000132</td>\n",
       "      <td>20161017</td>\n",
       "      <td>500.0</td>\n",
       "      <td>1000000132</td>\n",
       "      <td>20161219</td>\n",
       "      <td>500.0</td>\n",
       "    </tr>\n",
       "  </tbody>\n",
       "</table>\n",
       "</div>"
      ],
      "text/plain": [
       "      account trans_date amount     account trans_date amount\n",
       "0  1000000132   20161017  500.0  1000000132   20170103  500.0\n",
       "1  1000000132   20161017  500.0  1000000132   20170103  500.0\n",
       "2  1000000132   20161017  500.0  1000000132   20161219  500.0\n",
       "3  1000000132   20161017  500.0  1000000132   20161219  500.0\n",
       "4  1000000132   20161017  500.0  1000000132   20161219  500.0"
      ]
     },
     "execution_count": 17,
     "metadata": {},
     "output_type": "execute_result"
    }
   ],
   "source": [
    "spark.sql('''select * from (select account,trans_date,amount from trans order by account,trans_date) as a\n",
    "          left outer join (select account,trans_date,amount from trans order by account,trans_date) as b on a.account=b.account and a.tr ''').toPandas().head()"
   ]
  },
  {
   "cell_type": "code",
   "execution_count": null,
   "metadata": {
    "collapsed": true
   },
   "outputs": [],
   "source": []
  }
 ],
 "metadata": {
  "kernelspec": {
   "display_name": "Python 2",
   "language": "python",
   "name": "python2"
  },
  "language_info": {
   "codemirror_mode": {
    "name": "ipython",
    "version": 2
   },
   "file_extension": ".py",
   "mimetype": "text/x-python",
   "name": "python",
   "nbconvert_exporter": "python",
   "pygments_lexer": "ipython2",
   "version": "2.7.11"
  }
 },
 "nbformat": 4,
 "nbformat_minor": 0
}
