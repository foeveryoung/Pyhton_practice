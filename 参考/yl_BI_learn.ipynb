{
 "cells": [
  {
   "cell_type": "markdown",
   "metadata": {},
   "source": [
    "# BI 走一波~"
   ]
  },
  {
   "cell_type": "markdown",
   "metadata": {},
   "source": [
    "### import 引入模块"
   ]
  },
  {
   "cell_type": "code",
   "execution_count": 1,
   "metadata": {
    "collapsed": true
   },
   "outputs": [],
   "source": [
    "import pandas as pd\n",
    "import numpy as np\n",
    "import re\n",
    "import time"
   ]
  },
  {
   "cell_type": "markdown",
   "metadata": {},
   "source": [
    "### 读取文本，构造数据框"
   ]
  },
  {
   "cell_type": "code",
   "execution_count": 11,
   "metadata": {
    "collapsed": true
   },
   "outputs": [],
   "source": [
    "data = pd.read_csv(filepath + filename, header = None,dtype = str,prefix = 'x',sep=',')\n",
    "                   # encoding = 'utf-8',skiprows = 2,index_col = 1,prefix = 'x')\n",
    "\n",
    "# 文本文件就可以读，不一定是.csv，\n",
    "# header = None， 不识别头部\n",
    "# sep = ','是按照什么分隔符读入，一般是逗号或者是分号\n",
    "# dtype = str，用于选定数据类型，就用str好了，里面要处理再转换比较方便，避免自动识别有歧义\n",
    "# prefix = 'x'是为了让每个列在header=None时候有个名字，从x0，x1.。。。\n",
    "# encoding 是读入数据集的编码，主要就是utf-8和gbk的问题\n",
    "# 读arff的时候有文件头的meta信息，skiprows 就是跳过多少行开始读\n",
    "#  还有很多属性。。\n",
    "# 可以输入?pd.read_csv()查找"
   ]
  },
  {
   "cell_type": "code",
   "execution_count": 2,
   "metadata": {},
   "outputs": [
    {
     "name": "stdout",
     "output_type": "stream",
     "text": [
      "(150L, 4L)\n",
      "(150L,)\n",
      "<type 'numpy.ndarray'>\n"
     ]
    }
   ],
   "source": [
    "# 世界知名数据集、鸢尾花iris\n",
    "# 这里的x，y分别是array类型（就是网上随便找个数据集），后面分析主要用DataFrame类型\n",
    "from sklearn.datasets import load_iris\n",
    "iris = load_iris()\n",
    "x = iris.data\n",
    "y = iris.target\n",
    "print x.shape\n",
    "print y.shape\n",
    "print type(x)"
   ]
  },
  {
   "cell_type": "code",
   "execution_count": 3,
   "metadata": {
    "collapsed": true
   },
   "outputs": [],
   "source": [
    "# 四个维度分别是花萼长度、宽度，花瓣长度、宽度，现在都是连续型数据，等下处理部分呈离散型\n",
    "x = pd.DataFrame(x,columns= ['length1','width1','length2','width2'])\n",
    "y = pd.DataFrame(y,columns= ['y'])\n",
    "# concat 操作拼接数据集，axis是轴，0为按行拼接，1为按列拼接\n",
    "data = pd.concat([x,y],axis = 1)"
   ]
  },
  {
   "cell_type": "markdown",
   "metadata": {},
   "source": [
    "### 数据框概览"
   ]
  },
  {
   "cell_type": "code",
   "execution_count": 112,
   "metadata": {},
   "outputs": [
    {
     "name": "stdout",
     "output_type": "stream",
     "text": [
      "   length1  width1  length2  width2  y\n",
      "0      5.1     3.5      1.4     0.2  0\n",
      "1      4.9     3.0      1.4     0.2  0\n",
      "2      4.7     3.2      1.3     0.2  0\n",
      "3      4.6     3.1      1.5     0.2  0\n",
      "4      5.0     3.6      1.4     0.2  0\n",
      "          length1      width1     length2      width2           y\n",
      "count  150.000000  150.000000  150.000000  150.000000  150.000000\n",
      "mean     5.843333    3.054000    3.758667    1.198667    1.000000\n",
      "std      0.828066    0.433594    1.764420    0.763161    0.819232\n",
      "min      4.300000    2.000000    1.000000    0.100000    0.000000\n",
      "25%      5.100000    2.800000    1.600000    0.300000    0.000000\n",
      "50%      5.800000    3.000000    4.350000    1.300000    1.000000\n",
      "75%      6.400000    3.300000    5.100000    1.800000    2.000000\n",
      "max      7.900000    4.400000    6.900000    2.500000    2.000000\n",
      "<class 'pandas.core.frame.DataFrame'>\n",
      "Int64Index: 150 entries, 0 to 149\n",
      "Data columns (total 5 columns):\n",
      "length1    150 non-null float64\n",
      "width1     150 non-null float64\n",
      "length2    150 non-null float64\n",
      "width2     150 non-null float64\n",
      "y          150 non-null int64\n",
      "dtypes: float64(4), int64(1)\n",
      "memory usage: 7.0 KB\n",
      "None\n",
      "(150, 5)\n"
     ]
    }
   ],
   "source": [
    "# 显示data数据框前n行\n",
    "print data.head()\n",
    "# 显示data的每一列的计数、均值、分位数等信息\n",
    "print data.describe()\n",
    "# 显示data的每一列的非空信息，数据类型\n",
    "print data.info()\n",
    "# 显示data的形状\n",
    "print data.shape"
   ]
  },
  {
   "cell_type": "markdown",
   "metadata": {},
   "source": [
    "### 筛选数据"
   ]
  },
  {
   "cell_type": "code",
   "execution_count": 113,
   "metadata": {},
   "outputs": [
    {
     "name": "stdout",
     "output_type": "stream",
     "text": [
      "l[0]:  1\n",
      "l[:]  [1, 2, 3, 4, 5]\n",
      "l[::-1]:  [5, 4, 3, 2, 1]\n"
     ]
    }
   ],
   "source": [
    "# 先提前说下list 的切片问题\n",
    "# ::两个冒号分别对应，首、尾、步长\n",
    "# 第一个冒号前面缺省就是从头开始，后面缺省就是到尾巴结束\n",
    "# 第二个冒号和后面的步长缺省，步长为1\n",
    "l = [1,2,3,4,5]\n",
    "print 'l[0]: ', l[0]\n",
    "print 'l[:] ',l[::1]\n",
    "print 'l[::-1]: ', l[::-1]"
   ]
  },
  {
   "cell_type": "code",
   "execution_count": 114,
   "metadata": {},
   "outputs": [
    {
     "name": "stdout",
     "output_type": "stream",
     "text": [
      "[1, 2, 3]\n",
      "[1, 2, 3]\n",
      "[1, 2, 3, 4]\n",
      "[1, 2, 3, 4]\n",
      "<=======>\n",
      "[1, 2, 3]\n",
      "[1, 2, 3]\n",
      "[1, 2, 3, 4]\n",
      "[1, 2, 3]\n"
     ]
    }
   ],
   "source": [
    "# 这里强调一下，python的赋值都是传递的引用\n",
    "list_ex = [1,2,3]\n",
    "li2 = list_ex\n",
    "print list_ex\n",
    "print li2\n",
    "list_ex.append(4)\n",
    "print list_ex\n",
    "print li2\n",
    "# 所以如果要想要改变list_ex，而不变li2，需要给li2也传递一个[1,2,3]的引用\n",
    "print '<=======>'\n",
    "list_ex = [1,2,3]\n",
    "li2 =  [1,2,3]\n",
    "print list_ex\n",
    "print li2\n",
    "list_ex.append(4)\n",
    "print list_ex\n",
    "print li2\n",
    "# 针对DF也是一样的"
   ]
  },
  {
   "cell_type": "code",
   "execution_count": 115,
   "metadata": {
    "scrolled": true
   },
   "outputs": [
    {
     "data": {
      "text/html": [
       "<div>\n",
       "<table border=\"1\" class=\"dataframe\">\n",
       "  <thead>\n",
       "    <tr style=\"text-align: right;\">\n",
       "      <th></th>\n",
       "      <th>length1</th>\n",
       "      <th>length2</th>\n",
       "    </tr>\n",
       "  </thead>\n",
       "  <tbody>\n",
       "    <tr>\n",
       "      <th>0</th>\n",
       "      <td>5.1</td>\n",
       "      <td>1.4</td>\n",
       "    </tr>\n",
       "    <tr>\n",
       "      <th>1</th>\n",
       "      <td>4.9</td>\n",
       "      <td>1.4</td>\n",
       "    </tr>\n",
       "    <tr>\n",
       "      <th>2</th>\n",
       "      <td>4.7</td>\n",
       "      <td>1.3</td>\n",
       "    </tr>\n",
       "    <tr>\n",
       "      <th>3</th>\n",
       "      <td>4.6</td>\n",
       "      <td>1.5</td>\n",
       "    </tr>\n",
       "    <tr>\n",
       "      <th>4</th>\n",
       "      <td>5.0</td>\n",
       "      <td>1.4</td>\n",
       "    </tr>\n",
       "  </tbody>\n",
       "</table>\n",
       "</div>"
      ],
      "text/plain": [
       "   length1  length2\n",
       "0      5.1      1.4\n",
       "1      4.9      1.4\n",
       "2      4.7      1.3\n",
       "3      4.6      1.5\n",
       "4      5.0      1.4"
      ]
     },
     "execution_count": 115,
     "metadata": {},
     "output_type": "execute_result"
    }
   ],
   "source": [
    "# 按列名筛选，取出DF中的某一列，现在取花萼长度\n",
    "data.length1\n",
    "data['length1']\n",
    "data.ix[:,'length1']\n",
    "# 上面三个返回结果都是等价的\n",
    "l = ['length1','length2']\n",
    "data.ix[:,l].head()"
   ]
  },
  {
   "cell_type": "code",
   "execution_count": 116,
   "metadata": {},
   "outputs": [
    {
     "data": {
      "text/html": [
       "<div>\n",
       "<table border=\"1\" class=\"dataframe\">\n",
       "  <thead>\n",
       "    <tr style=\"text-align: right;\">\n",
       "      <th></th>\n",
       "      <th>length1</th>\n",
       "      <th>width1</th>\n",
       "    </tr>\n",
       "  </thead>\n",
       "  <tbody>\n",
       "    <tr>\n",
       "      <th>0</th>\n",
       "      <td>5.1</td>\n",
       "      <td>3.5</td>\n",
       "    </tr>\n",
       "    <tr>\n",
       "      <th>1</th>\n",
       "      <td>4.9</td>\n",
       "      <td>3.0</td>\n",
       "    </tr>\n",
       "    <tr>\n",
       "      <th>2</th>\n",
       "      <td>4.7</td>\n",
       "      <td>3.2</td>\n",
       "    </tr>\n",
       "    <tr>\n",
       "      <th>3</th>\n",
       "      <td>4.6</td>\n",
       "      <td>3.1</td>\n",
       "    </tr>\n",
       "    <tr>\n",
       "      <th>4</th>\n",
       "      <td>5.0</td>\n",
       "      <td>3.6</td>\n",
       "    </tr>\n",
       "  </tbody>\n",
       "</table>\n",
       "</div>"
      ],
      "text/plain": [
       "   length1  width1\n",
       "0      5.1     3.5\n",
       "1      4.9     3.0\n",
       "2      4.7     3.2\n",
       "3      4.6     3.1\n",
       "4      5.0     3.6"
      ]
     },
     "execution_count": 116,
     "metadata": {},
     "output_type": "execute_result"
    }
   ],
   "source": [
    "# 按照位置切片筛选列\n",
    "data.ix[:,0:2].head()"
   ]
  },
  {
   "cell_type": "code",
   "execution_count": 117,
   "metadata": {},
   "outputs": [
    {
     "name": "stdout",
     "output_type": "stream",
     "text": [
      "(11, 5)\n"
     ]
    },
    {
     "data": {
      "text/html": [
       "<div>\n",
       "<table border=\"1\" class=\"dataframe\">\n",
       "  <thead>\n",
       "    <tr style=\"text-align: right;\">\n",
       "      <th></th>\n",
       "      <th>length1</th>\n",
       "      <th>length2</th>\n",
       "    </tr>\n",
       "  </thead>\n",
       "  <tbody>\n",
       "    <tr>\n",
       "      <th>145</th>\n",
       "      <td>6.7</td>\n",
       "      <td>5.2</td>\n",
       "    </tr>\n",
       "    <tr>\n",
       "      <th>146</th>\n",
       "      <td>6.3</td>\n",
       "      <td>5.0</td>\n",
       "    </tr>\n",
       "    <tr>\n",
       "      <th>147</th>\n",
       "      <td>6.5</td>\n",
       "      <td>5.2</td>\n",
       "    </tr>\n",
       "    <tr>\n",
       "      <th>148</th>\n",
       "      <td>6.2</td>\n",
       "      <td>5.4</td>\n",
       "    </tr>\n",
       "    <tr>\n",
       "      <th>149</th>\n",
       "      <td>5.9</td>\n",
       "      <td>5.1</td>\n",
       "    </tr>\n",
       "  </tbody>\n",
       "</table>\n",
       "</div>"
      ],
      "text/plain": [
       "     length1  length2\n",
       "145      6.7      5.2\n",
       "146      6.3      5.0\n",
       "147      6.5      5.2\n",
       "148      6.2      5.4\n",
       "149      5.9      5.1"
      ]
     },
     "execution_count": 117,
     "metadata": {},
     "output_type": "execute_result"
    }
   ],
   "source": [
    "# 按行筛选\n",
    "# 这一种方式是按照index 来筛选的，如果index是其他值而非0--n形式，要注意循环的问题\n",
    "data.ix[0,:]\n",
    "# 按照条件筛选，data.x0 > '1000'返回bool型的list，与len(data)等长，外层的[]筛选出为true的对应的行\n",
    "data[data.length1 > 5]\n",
    "# 如果多个条件，条件之间用！& | 来做关系运算\n",
    "print data[(data.length1 > 5)&(data.width2 == 0.2)].shape\n",
    "# 以上的方式都选择的是某些行 + 所有列\n",
    "# 如果要对列同时进行筛选，则不能够使用data[cond]的方式，要用.ix操作\n",
    "data.ix[data.length1 > 5,l].tail()"
   ]
  },
  {
   "cell_type": "code",
   "execution_count": 118,
   "metadata": {},
   "outputs": [
    {
     "name": "stdout",
     "output_type": "stream",
     "text": [
      "7.9\n",
      "4.3\n"
     ]
    },
    {
     "data": {
      "text/html": [
       "<div>\n",
       "<table border=\"1\" class=\"dataframe\">\n",
       "  <thead>\n",
       "    <tr style=\"text-align: right;\">\n",
       "      <th></th>\n",
       "      <th>length1</th>\n",
       "      <th>width1</th>\n",
       "      <th>length2</th>\n",
       "      <th>width2</th>\n",
       "      <th>y</th>\n",
       "    </tr>\n",
       "  </thead>\n",
       "  <tbody>\n",
       "    <tr>\n",
       "      <th>0</th>\n",
       "      <td>2</td>\n",
       "      <td>3.5</td>\n",
       "      <td>1</td>\n",
       "      <td>0.2</td>\n",
       "      <td>0</td>\n",
       "    </tr>\n",
       "    <tr>\n",
       "      <th>1</th>\n",
       "      <td>1</td>\n",
       "      <td>3.0</td>\n",
       "      <td>1</td>\n",
       "      <td>0.2</td>\n",
       "      <td>0</td>\n",
       "    </tr>\n",
       "    <tr>\n",
       "      <th>2</th>\n",
       "      <td>1</td>\n",
       "      <td>3.2</td>\n",
       "      <td>1</td>\n",
       "      <td>0.2</td>\n",
       "      <td>0</td>\n",
       "    </tr>\n",
       "    <tr>\n",
       "      <th>3</th>\n",
       "      <td>1</td>\n",
       "      <td>3.1</td>\n",
       "      <td>1</td>\n",
       "      <td>0.2</td>\n",
       "      <td>0</td>\n",
       "    </tr>\n",
       "    <tr>\n",
       "      <th>4</th>\n",
       "      <td>1</td>\n",
       "      <td>3.6</td>\n",
       "      <td>1</td>\n",
       "      <td>0.2</td>\n",
       "      <td>0</td>\n",
       "    </tr>\n",
       "  </tbody>\n",
       "</table>\n",
       "</div>"
      ],
      "text/plain": [
       "  length1  width1 length2  width2  y\n",
       "0       2     3.5       1     0.2  0\n",
       "1       1     3.0       1     0.2  0\n",
       "2       1     3.2       1     0.2  0\n",
       "3       1     3.1       1     0.2  0\n",
       "4       1     3.6       1     0.2  0"
      ]
     },
     "execution_count": 118,
     "metadata": {},
     "output_type": "execute_result"
    }
   ],
   "source": [
    "print max(data.length1)\n",
    "print min(data.length1)\n",
    "# 把连续变量转换成离散变量\n",
    "data.length1 = pd.cut(data.length1,bins = 5,right = True,labels = [1,2,3,4,5],retbins = True)[0]\n",
    "data.length2 = pd.cut(data.length2,bins = 5,right = True,labels = [1,2,3,4,5],retbins = True)[0]\n",
    "data.head()"
   ]
  },
  {
   "cell_type": "code",
   "execution_count": 119,
   "metadata": {
    "collapsed": true
   },
   "outputs": [],
   "source": [
    "# 按行操作\n",
    "# 1.apply函数，选取一个pd.Series可以按行操作，配合lambda表达式，对每个值进行处理，速度比较快\n",
    "# lambda 表达式，就是一个方法，只不过不含有方法名\n",
    "data.length1 = data.length1.apply(lambda x:int(x))\n",
    "# 2.for循环之类的。不推荐。很慢很慢。\n",
    "# 3.map方法 ，配合dict可以做标记，速度比较快\n",
    "# data.length1 = data.length1.map(dict)\n"
   ]
  },
  {
   "cell_type": "code",
   "execution_count": 120,
   "metadata": {
    "scrolled": true
   },
   "outputs": [
    {
     "data": {
      "text/html": [
       "<div>\n",
       "<table border=\"1\" class=\"dataframe\">\n",
       "  <thead>\n",
       "    <tr style=\"text-align: right;\">\n",
       "      <th></th>\n",
       "      <th>length1</th>\n",
       "      <th>width1</th>\n",
       "      <th>length2</th>\n",
       "      <th>width2</th>\n",
       "      <th>y</th>\n",
       "    </tr>\n",
       "  </thead>\n",
       "  <tbody>\n",
       "    <tr>\n",
       "      <th>105</th>\n",
       "      <td>5</td>\n",
       "      <td>3.0</td>\n",
       "      <td>5</td>\n",
       "      <td>2.1</td>\n",
       "      <td>2</td>\n",
       "    </tr>\n",
       "    <tr>\n",
       "      <th>107</th>\n",
       "      <td>5</td>\n",
       "      <td>2.9</td>\n",
       "      <td>5</td>\n",
       "      <td>1.8</td>\n",
       "      <td>2</td>\n",
       "    </tr>\n",
       "    <tr>\n",
       "      <th>109</th>\n",
       "      <td>5</td>\n",
       "      <td>3.6</td>\n",
       "      <td>5</td>\n",
       "      <td>2.5</td>\n",
       "      <td>2</td>\n",
       "    </tr>\n",
       "    <tr>\n",
       "      <th>117</th>\n",
       "      <td>5</td>\n",
       "      <td>3.8</td>\n",
       "      <td>5</td>\n",
       "      <td>2.2</td>\n",
       "      <td>2</td>\n",
       "    </tr>\n",
       "    <tr>\n",
       "      <th>118</th>\n",
       "      <td>5</td>\n",
       "      <td>2.6</td>\n",
       "      <td>5</td>\n",
       "      <td>2.3</td>\n",
       "      <td>2</td>\n",
       "    </tr>\n",
       "  </tbody>\n",
       "</table>\n",
       "</div>"
      ],
      "text/plain": [
       "     length1  width1 length2  width2  y\n",
       "105        5     3.0       5     2.1  2\n",
       "107        5     2.9       5     1.8  2\n",
       "109        5     3.6       5     2.5  2\n",
       "117        5     3.8       5     2.2  2\n",
       "118        5     2.6       5     2.3  2"
      ]
     },
     "execution_count": 120,
     "metadata": {},
     "output_type": "execute_result"
    }
   ],
   "source": [
    "# 排序\n",
    "data.sort_values(['length1','length2'],ascending = False).head()"
   ]
  },
  {
   "cell_type": "code",
   "execution_count": 121,
   "metadata": {},
   "outputs": [
    {
     "name": "stdout",
     "output_type": "stream",
     "text": [
      "3    42\n",
      "2    41\n",
      "1    32\n",
      "4    24\n",
      "5    11\n",
      "Name: length1, dtype: int64\n",
      "count    150.000000\n",
      "mean       3.054000\n",
      "std        0.433594\n",
      "min        2.000000\n",
      "25%        2.800000\n",
      "50%        3.000000\n",
      "75%        3.300000\n",
      "max        4.400000\n",
      "Name: width1, dtype: float64\n"
     ]
    }
   ],
   "source": [
    "# 统计\n",
    "print data.length1.value_counts()\n",
    "print data.width1.describe()"
   ]
  },
  {
   "cell_type": "code",
   "execution_count": 122,
   "metadata": {},
   "outputs": [
    {
     "data": {
      "text/plain": [
       "array([1, 4, 3, 2, 5])"
      ]
     },
     "execution_count": 122,
     "metadata": {},
     "output_type": "execute_result"
    }
   ],
   "source": [
    "# 取唯一值\n",
    "pd.unique(data.length2)"
   ]
  },
  {
   "cell_type": "code",
   "execution_count": 123,
   "metadata": {},
   "outputs": [
    {
     "name": "stdout",
     "output_type": "stream",
     "text": [
      "False    150\n",
      "Name: length2, dtype: int64\n"
     ]
    },
    {
     "data": {
      "text/plain": [
       "False    150\n",
       "Name: length2, dtype: int64"
      ]
     },
     "execution_count": 123,
     "metadata": {},
     "output_type": "execute_result"
    }
   ],
   "source": [
    "# 判断空\n",
    "print pd.isnull(data.length2).value_counts()\n",
    "pd.notnull(data.length2)\n",
    "\n",
    "# DF中为空的可能性，csv中为空，为null，为nan等，都会是空的可能，同时，因为读数据可能使用dtype=str的原因，空还可能是\n",
    "# nan，null等的字符串，需要字符串单独判断\n",
    "(data.length2 == 'null').value_counts()"
   ]
  },
  {
   "cell_type": "code",
   "execution_count": 124,
   "metadata": {},
   "outputs": [
    {
     "data": {
      "text/html": [
       "<div>\n",
       "<table border=\"1\" class=\"dataframe\">\n",
       "  <thead>\n",
       "    <tr style=\"text-align: right;\">\n",
       "      <th>y</th>\n",
       "      <th>0</th>\n",
       "      <th>1</th>\n",
       "      <th>2</th>\n",
       "    </tr>\n",
       "    <tr>\n",
       "      <th>length1</th>\n",
       "      <th></th>\n",
       "      <th></th>\n",
       "      <th></th>\n",
       "    </tr>\n",
       "  </thead>\n",
       "  <tbody>\n",
       "    <tr>\n",
       "      <th>1</th>\n",
       "      <td>28</td>\n",
       "      <td>3</td>\n",
       "      <td>1</td>\n",
       "    </tr>\n",
       "    <tr>\n",
       "      <th>2</th>\n",
       "      <td>21</td>\n",
       "      <td>18</td>\n",
       "      <td>2</td>\n",
       "    </tr>\n",
       "    <tr>\n",
       "      <th>3</th>\n",
       "      <td>1</td>\n",
       "      <td>20</td>\n",
       "      <td>21</td>\n",
       "    </tr>\n",
       "    <tr>\n",
       "      <th>4</th>\n",
       "      <td>0</td>\n",
       "      <td>9</td>\n",
       "      <td>15</td>\n",
       "    </tr>\n",
       "    <tr>\n",
       "      <th>5</th>\n",
       "      <td>0</td>\n",
       "      <td>0</td>\n",
       "      <td>11</td>\n",
       "    </tr>\n",
       "  </tbody>\n",
       "</table>\n",
       "</div>"
      ],
      "text/plain": [
       "y         0   1   2\n",
       "length1            \n",
       "1        28   3   1\n",
       "2        21  18   2\n",
       "3         1  20  21\n",
       "4         0   9  15\n",
       "5         0   0  11"
      ]
     },
     "execution_count": 124,
     "metadata": {},
     "output_type": "execute_result"
    }
   ],
   "source": [
    "# 交叉表 ，两个列之间的关系\n",
    "pd.crosstab(data.length1,data.y)\n",
    "\n",
    "# 交叉表在处理的时候，是把数据按照离散值处理的，所以如果是连续值要看的话，需要cut一下\n",
    "# 按照下面的表格就可以看出，行列都分别是原DF的一个列，中间的数值是统计个数\n",
    "# 和pivot类似的是，在pivot中，aggfunc = np.size时，二者表现基本一致"
   ]
  },
  {
   "cell_type": "code",
   "execution_count": 125,
   "metadata": {},
   "outputs": [
    {
     "data": {
      "text/html": [
       "<div>\n",
       "<table border=\"1\" class=\"dataframe\">\n",
       "  <thead>\n",
       "    <tr style=\"text-align: right;\">\n",
       "      <th>y</th>\n",
       "      <th>0</th>\n",
       "      <th>1</th>\n",
       "      <th>2</th>\n",
       "    </tr>\n",
       "    <tr>\n",
       "      <th>length2</th>\n",
       "      <th></th>\n",
       "      <th></th>\n",
       "      <th></th>\n",
       "    </tr>\n",
       "  </thead>\n",
       "  <tbody>\n",
       "    <tr>\n",
       "      <th>1</th>\n",
       "      <td>3.418</td>\n",
       "      <td>0.000000</td>\n",
       "      <td>0.000000</td>\n",
       "    </tr>\n",
       "    <tr>\n",
       "      <th>2</th>\n",
       "      <td>0.000</td>\n",
       "      <td>2.400000</td>\n",
       "      <td>0.000000</td>\n",
       "    </tr>\n",
       "    <tr>\n",
       "      <th>3</th>\n",
       "      <td>0.000</td>\n",
       "      <td>2.727273</td>\n",
       "      <td>2.500000</td>\n",
       "    </tr>\n",
       "    <tr>\n",
       "      <th>4</th>\n",
       "      <td>0.000</td>\n",
       "      <td>2.950000</td>\n",
       "      <td>2.930303</td>\n",
       "    </tr>\n",
       "    <tr>\n",
       "      <th>5</th>\n",
       "      <td>0.000</td>\n",
       "      <td>0.000000</td>\n",
       "      <td>3.093750</td>\n",
       "    </tr>\n",
       "  </tbody>\n",
       "</table>\n",
       "</div>"
      ],
      "text/plain": [
       "y            0         1         2\n",
       "length2                           \n",
       "1        3.418  0.000000  0.000000\n",
       "2        0.000  2.400000  0.000000\n",
       "3        0.000  2.727273  2.500000\n",
       "4        0.000  2.950000  2.930303\n",
       "5        0.000  0.000000  3.093750"
      ]
     },
     "execution_count": 125,
     "metadata": {},
     "output_type": "execute_result"
    }
   ],
   "source": [
    "# pivot\n",
    "pd.pivot_table(data,columns='y',index='length2',values = 'width1',aggfunc=np.mean).fillna(0)\n",
    "\n",
    "# 这个和excel的数据透视表一致的，主要看的也是一些列的组合信息\n",
    "# 这里的参数和crosstab不同，主要是参数都按照列名来处理，可以是一个str，也可以是一个list"
   ]
  },
  {
   "cell_type": "code",
   "execution_count": 126,
   "metadata": {},
   "outputs": [
    {
     "name": "stdout",
     "output_type": "stream",
     "text": [
      "09-17\n"
     ]
    }
   ],
   "source": [
    "# 时间戳处理成看得懂的。。arff洗出来\n",
    "def mon_day(x):\n",
    "    return time.strftime('%m-%d',time.localtime(int(x[:10])))\n",
    "\n",
    "t = '1474113671000'\n",
    "print mon_day(t)\n",
    "# time.localtime()方法，是吧时间戳转换成任意需要的数据，年月日小时分钟秒。。。\n",
    "# time.strftime()方法，可以把时间戳处理完的数据按需要的样子展示出来，%y,%m,%d,%u......\n",
    "#'%Y-%m-%d %H:%M:%S'"
   ]
  },
  {
   "cell_type": "code",
   "execution_count": 127,
   "metadata": {},
   "outputs": [
    {
     "data": {
      "text/plain": [
       "(73, 5)"
      ]
     },
     "execution_count": 127,
     "metadata": {},
     "output_type": "execute_result"
    }
   ],
   "source": [
    "# 拼接两个df,就是两个长方形拼起来的样子。。\n",
    "df_a = data[data.length1 == 1]\n",
    "df_b = data[data.length1 == 2]\n",
    "dd = pd.concat([df_a,df_b],axis = 0)\n",
    "dd.shape"
   ]
  },
  {
   "cell_type": "code",
   "execution_count": 128,
   "metadata": {
    "scrolled": true
   },
   "outputs": [
    {
     "data": {
      "text/html": [
       "<div>\n",
       "<table border=\"1\" class=\"dataframe\">\n",
       "  <thead>\n",
       "    <tr style=\"text-align: right;\">\n",
       "      <th></th>\n",
       "      <th>length1_x</th>\n",
       "      <th>width1_x</th>\n",
       "      <th>length2_x</th>\n",
       "      <th>width2_x</th>\n",
       "      <th>y_x</th>\n",
       "      <th>length1_y</th>\n",
       "      <th>width1_y</th>\n",
       "      <th>length2_y</th>\n",
       "      <th>width2_y</th>\n",
       "      <th>y_y</th>\n",
       "    </tr>\n",
       "  </thead>\n",
       "  <tbody>\n",
       "    <tr>\n",
       "      <th>0</th>\n",
       "      <td>1</td>\n",
       "      <td>3</td>\n",
       "      <td>1</td>\n",
       "      <td>0.2</td>\n",
       "      <td>0</td>\n",
       "      <td>2</td>\n",
       "      <td>3.5</td>\n",
       "      <td>1</td>\n",
       "      <td>0.2</td>\n",
       "      <td>0</td>\n",
       "    </tr>\n",
       "    <tr>\n",
       "      <th>1</th>\n",
       "      <td>1</td>\n",
       "      <td>3</td>\n",
       "      <td>1</td>\n",
       "      <td>0.2</td>\n",
       "      <td>0</td>\n",
       "      <td>2</td>\n",
       "      <td>3.9</td>\n",
       "      <td>1</td>\n",
       "      <td>0.4</td>\n",
       "      <td>0</td>\n",
       "    </tr>\n",
       "    <tr>\n",
       "      <th>2</th>\n",
       "      <td>1</td>\n",
       "      <td>3</td>\n",
       "      <td>1</td>\n",
       "      <td>0.2</td>\n",
       "      <td>0</td>\n",
       "      <td>2</td>\n",
       "      <td>3.7</td>\n",
       "      <td>1</td>\n",
       "      <td>0.2</td>\n",
       "      <td>0</td>\n",
       "    </tr>\n",
       "    <tr>\n",
       "      <th>3</th>\n",
       "      <td>1</td>\n",
       "      <td>3</td>\n",
       "      <td>1</td>\n",
       "      <td>0.2</td>\n",
       "      <td>0</td>\n",
       "      <td>2</td>\n",
       "      <td>4.4</td>\n",
       "      <td>1</td>\n",
       "      <td>0.4</td>\n",
       "      <td>0</td>\n",
       "    </tr>\n",
       "    <tr>\n",
       "      <th>4</th>\n",
       "      <td>1</td>\n",
       "      <td>3</td>\n",
       "      <td>1</td>\n",
       "      <td>0.2</td>\n",
       "      <td>0</td>\n",
       "      <td>2</td>\n",
       "      <td>3.9</td>\n",
       "      <td>1</td>\n",
       "      <td>0.4</td>\n",
       "      <td>0</td>\n",
       "    </tr>\n",
       "  </tbody>\n",
       "</table>\n",
       "</div>"
      ],
      "text/plain": [
       "   length1_x  width1_x  length2_x  width2_x  y_x  length1_y  width1_y  \\\n",
       "0          1         3          1       0.2    0          2       3.5   \n",
       "1          1         3          1       0.2    0          2       3.9   \n",
       "2          1         3          1       0.2    0          2       3.7   \n",
       "3          1         3          1       0.2    0          2       4.4   \n",
       "4          1         3          1       0.2    0          2       3.9   \n",
       "\n",
       "   length2_y  width2_y  y_y  \n",
       "0          1       0.2    0  \n",
       "1          1       0.4    0  \n",
       "2          1       0.2    0  \n",
       "3          1       0.4    0  \n",
       "4          1       0.4    0  "
      ]
     },
     "execution_count": 128,
     "metadata": {},
     "output_type": "execute_result"
    }
   ],
   "source": [
    "# 像SQL一样连接，内连接，左、右、全外链接。连接方式可以按列或者按index\n",
    "df_a.merge(df_b,left_on='length1',right_on='length2',how = 'left').head()\n",
    "\n",
    "# 这里用的话主要情况是，数据源不是一张表，按照外键关系来进行拼接。数据源不太好想。"
   ]
  },
  {
   "cell_type": "code",
   "execution_count": 129,
   "metadata": {},
   "outputs": [
    {
     "data": {
      "text/plain": [
       "<_sre.SRE_Match at 0x113953198>"
      ]
     },
     "execution_count": 129,
     "metadata": {},
     "output_type": "execute_result"
    }
   ],
   "source": [
    "import re\n",
    "# 正则表达式\n",
    "a = re.compile(r'(\\d){3}')\n",
    "a.match('333')"
   ]
  },
  {
   "cell_type": "code",
   "execution_count": 130,
   "metadata": {
    "collapsed": true
   },
   "outputs": [],
   "source": [
    "# 删除某一列\n",
    "data = data.drop(['length1'],axis =1)\n"
   ]
  },
  {
   "cell_type": "code",
   "execution_count": 131,
   "metadata": {},
   "outputs": [
    {
     "data": {
      "text/plain": [
       "(150, 4)"
      ]
     },
     "execution_count": 131,
     "metadata": {},
     "output_type": "execute_result"
    }
   ],
   "source": [
    "data.shape"
   ]
  },
  {
   "cell_type": "code",
   "execution_count": null,
   "metadata": {
    "collapsed": true
   },
   "outputs": [],
   "source": [
    "# 保存csv\n",
    "df_a.to_csv(filepath + filename, index= False,header = None,dtype = str, encoding = 'utf-8')\n",
    "\n",
    "#参数和read_csv()比较类似，index = False就是不要index。。。之类，header，dtype，encoding。。。\n"
   ]
  },
  {
   "cell_type": "code",
   "execution_count": null,
   "metadata": {
    "collapsed": true
   },
   "outputs": [],
   "source": [
    "# 读取大数据集的方法\n",
    "dir = '/opt/app/bsfit/oridata/'\n",
    "reader = pd.read_csv(dir + 'ym2.csv', iterator=True)\n",
    "loop = True\n",
    "chunkSize = 100000\n",
    "chunks = []\n",
    "i = 1\n",
    "while loop:\n",
    "    try:\n",
    "        print i\n",
    "        i += 1\n",
    "        chunk = reader.get_chunk(chunkSize)\n",
    "        chunks.append(chunk)\n",
    "    except StopIteration:\n",
    "        loop = False\n",
    "        print \"Iteration is stopped.\"\n",
    "df = pd.concat(chunks, ignore_index=True)"
   ]
  },
  {
   "cell_type": "code",
   "execution_count": 4,
   "metadata": {
    "collapsed": true
   },
   "outputs": [],
   "source": [
    "# 反查标黑的方法\n",
    "# data_all.REFUSE_PAYMENT == '1'是欺诈\n",
    "# x_list 是要关联的列名，比如''usr_ip'\n",
    "\n",
    "def match(data_all,x_list):\n",
    "    # 获得所有黑样本的对应列的值，得到一个list\n",
    "    TRM_list = pd.unique(data_all.loc[data_all.REFUSE_PAYMENT == '1', x_list])\n",
    "    k = 0\n",
    "    for l, i in zip(TRM_list.tolist(), range(len(TRM_list))):\n",
    "        # if判断主要去除一些无效值和无意义的\n",
    "        if (pd.isnull(l) | (l == 'null') | (l == 'nan')| (l == '000000000000000')):\n",
    "            TRM_list = np.delete(TRM_list, i + k)\n",
    "            k = k - 1\n",
    "    # lambda 表达式进行标记，1是关联到的欺诈\n",
    "    data_all[x_list + '_RELA'] = data_all.REFUSE_PAYMENT.apply(\\\n",
    "        lambda x: 1 if x in TRM_list else 0)\n",
    "    # 就看看标了多少个\n",
    "    print x_list + \"TRM_RELA : \", data_all[x_list + '_RELA'].value_counts()\n",
    "    # 想返回啥自己定吧。都可以，比如DF,或者某一列，或者条件筛选过的DF\n",
    "    return data_all[data_all[x_list + '_RELA'] == 1].EVENT_ID"
   ]
  },
  {
   "cell_type": "code",
   "execution_count": 13,
   "metadata": {},
   "outputs": [
    {
     "name": "stdout",
     "output_type": "stream",
     "text": [
      "['\\xe6\\xb2\\xb3\\xe5\\x8d\\x97\\xe7\\x9c\\x81', '\\xe8\\xae\\xb8\\xe6\\x98\\x8c\\xe5\\xb8\\x82', '\\xe8\\xae\\xb8\\xe6\\x98\\x8c\\xe5\\xb8\\x82']\n"
     ]
    },
    {
     "data": {
      "text/html": [
       "<div>\n",
       "<style>\n",
       "    .dataframe thead tr:only-child th {\n",
       "        text-align: right;\n",
       "    }\n",
       "\n",
       "    .dataframe thead th {\n",
       "        text-align: left;\n",
       "    }\n",
       "\n",
       "    .dataframe tbody tr th {\n",
       "        vertical-align: top;\n",
       "    }\n",
       "</style>\n",
       "<table border=\"1\" class=\"dataframe\">\n",
       "  <thead>\n",
       "    <tr style=\"text-align: right;\">\n",
       "      <th></th>\n",
       "      <th>河南省</th>\n",
       "      <th>许昌市</th>\n",
       "    </tr>\n",
       "  </thead>\n",
       "  <tbody>\n",
       "    <tr>\n",
       "      <th>0</th>\n",
       "      <td>1</td>\n",
       "      <td>0</td>\n",
       "    </tr>\n",
       "    <tr>\n",
       "      <th>1</th>\n",
       "      <td>0</td>\n",
       "      <td>1</td>\n",
       "    </tr>\n",
       "    <tr>\n",
       "      <th>2</th>\n",
       "      <td>0</td>\n",
       "      <td>1</td>\n",
       "    </tr>\n",
       "  </tbody>\n",
       "</table>\n",
       "</div>"
      ],
      "text/plain": [
       "   河南省  许昌市\n",
       "0    1    0\n",
       "1    0    1\n",
       "2    0    1"
      ]
     },
     "execution_count": 13,
     "metadata": {},
     "output_type": "execute_result"
    }
   ],
   "source": [
    "# -*- coding: utf-8 -*-\n",
    "a=['河南省','许昌市','许昌市']\n",
    "print a\n",
    "pd.get_dummies(a)"
   ]
  },
  {
   "cell_type": "code",
   "execution_count": 14,
   "metadata": {},
   "outputs": [
    {
     "data": {
      "text/html": [
       "<div>\n",
       "<style>\n",
       "    .dataframe thead tr:only-child th {\n",
       "        text-align: right;\n",
       "    }\n",
       "\n",
       "    .dataframe thead th {\n",
       "        text-align: left;\n",
       "    }\n",
       "\n",
       "    .dataframe tbody tr th {\n",
       "        vertical-align: top;\n",
       "    }\n",
       "</style>\n",
       "<table border=\"1\" class=\"dataframe\">\n",
       "  <thead>\n",
       "    <tr style=\"text-align: right;\">\n",
       "      <th></th>\n",
       "      <th>length1</th>\n",
       "      <th>width1</th>\n",
       "      <th>length2</th>\n",
       "      <th>width2</th>\n",
       "      <th>y</th>\n",
       "    </tr>\n",
       "  </thead>\n",
       "  <tbody>\n",
       "    <tr>\n",
       "      <th>0</th>\n",
       "      <td>5.1</td>\n",
       "      <td>3.5</td>\n",
       "      <td>1.4</td>\n",
       "      <td>0.2</td>\n",
       "      <td>0</td>\n",
       "    </tr>\n",
       "    <tr>\n",
       "      <th>1</th>\n",
       "      <td>4.9</td>\n",
       "      <td>3.0</td>\n",
       "      <td>1.4</td>\n",
       "      <td>0.2</td>\n",
       "      <td>0</td>\n",
       "    </tr>\n",
       "    <tr>\n",
       "      <th>2</th>\n",
       "      <td>4.7</td>\n",
       "      <td>3.2</td>\n",
       "      <td>1.3</td>\n",
       "      <td>0.2</td>\n",
       "      <td>0</td>\n",
       "    </tr>\n",
       "    <tr>\n",
       "      <th>3</th>\n",
       "      <td>4.6</td>\n",
       "      <td>3.1</td>\n",
       "      <td>1.5</td>\n",
       "      <td>0.2</td>\n",
       "      <td>0</td>\n",
       "    </tr>\n",
       "    <tr>\n",
       "      <th>4</th>\n",
       "      <td>5.0</td>\n",
       "      <td>3.6</td>\n",
       "      <td>1.4</td>\n",
       "      <td>0.2</td>\n",
       "      <td>0</td>\n",
       "    </tr>\n",
       "  </tbody>\n",
       "</table>\n",
       "</div>"
      ],
      "text/plain": [
       "   length1  width1  length2  width2  y\n",
       "0      5.1     3.5      1.4     0.2  0\n",
       "1      4.9     3.0      1.4     0.2  0\n",
       "2      4.7     3.2      1.3     0.2  0\n",
       "3      4.6     3.1      1.5     0.2  0\n",
       "4      5.0     3.6      1.4     0.2  0"
      ]
     },
     "execution_count": 14,
     "metadata": {},
     "output_type": "execute_result"
    }
   ],
   "source": [
    "data.head()"
   ]
  },
  {
   "cell_type": "code",
   "execution_count": 17,
   "metadata": {
    "collapsed": true
   },
   "outputs": [],
   "source": [
    "a=['sss','www','qqq']\n",
    "b=range(3)\n",
    "f=dict(zip(a,b))"
   ]
  },
  {
   "cell_type": "code",
   "execution_count": 25,
   "metadata": {},
   "outputs": [
    {
     "data": {
      "text/plain": [
       "[0, 1, 2]"
      ]
     },
     "execution_count": 25,
     "metadata": {},
     "output_type": "execute_result"
    }
   ],
   "source": [
    "map(lambda x:f[x],a)"
   ]
  },
  {
   "cell_type": "code",
   "execution_count": 29,
   "metadata": {
    "collapsed": true
   },
   "outputs": [],
   "source": [
    "import pandas as pd"
   ]
  },
  {
   "cell_type": "code",
   "execution_count": 30,
   "metadata": {},
   "outputs": [
    {
     "data": {
      "text/plain": [
       "'A,B,C,D\\n1,2,3,4\\n5,6,,8\\n0,11,12,'"
      ]
     },
     "execution_count": 30,
     "metadata": {},
     "output_type": "execute_result"
    }
   ],
   "source": [
    "csv_data"
   ]
  },
  {
   "cell_type": "code",
   "execution_count": 36,
   "metadata": {},
   "outputs": [
    {
     "data": {
      "text/plain": [
       "(4L, 3L)"
      ]
     },
     "execution_count": 36,
     "metadata": {},
     "output_type": "execute_result"
    }
   ],
   "source": [
    "a=np.array([\n",
    "    [1,2,'sun'],\n",
    "    [2,3,'pan'],\n",
    "    [3,4,'wei'],\n",
    "    [3,5,'wei']\n",
    "])\n",
    "a.shape"
   ]
  },
  {
   "cell_type": "code",
   "execution_count": 44,
   "metadata": {
    "collapsed": true
   },
   "outputs": [],
   "source": [
    "data=pd.DataFrame(a,columns=['id','AGE','tyep'])"
   ]
  },
  {
   "cell_type": "code",
   "execution_count": 45,
   "metadata": {},
   "outputs": [
    {
     "data": {
      "text/html": [
       "<div>\n",
       "<style>\n",
       "    .dataframe thead tr:only-child th {\n",
       "        text-align: right;\n",
       "    }\n",
       "\n",
       "    .dataframe thead th {\n",
       "        text-align: left;\n",
       "    }\n",
       "\n",
       "    .dataframe tbody tr th {\n",
       "        vertical-align: top;\n",
       "    }\n",
       "</style>\n",
       "<table border=\"1\" class=\"dataframe\">\n",
       "  <thead>\n",
       "    <tr style=\"text-align: right;\">\n",
       "      <th></th>\n",
       "      <th>id</th>\n",
       "      <th>AGE</th>\n",
       "      <th>tyep</th>\n",
       "    </tr>\n",
       "  </thead>\n",
       "  <tbody>\n",
       "    <tr>\n",
       "      <th>0</th>\n",
       "      <td>1</td>\n",
       "      <td>2</td>\n",
       "      <td>sun</td>\n",
       "    </tr>\n",
       "    <tr>\n",
       "      <th>1</th>\n",
       "      <td>2</td>\n",
       "      <td>3</td>\n",
       "      <td>pan</td>\n",
       "    </tr>\n",
       "    <tr>\n",
       "      <th>2</th>\n",
       "      <td>3</td>\n",
       "      <td>4</td>\n",
       "      <td>wei</td>\n",
       "    </tr>\n",
       "    <tr>\n",
       "      <th>3</th>\n",
       "      <td>3</td>\n",
       "      <td>5</td>\n",
       "      <td>wei</td>\n",
       "    </tr>\n",
       "  </tbody>\n",
       "</table>\n",
       "</div>"
      ],
      "text/plain": [
       "  id AGE tyep\n",
       "0  1   2  sun\n",
       "1  2   3  pan\n",
       "2  3   4  wei\n",
       "3  3   5  wei"
      ]
     },
     "execution_count": 45,
     "metadata": {},
     "output_type": "execute_result"
    }
   ],
   "source": [
    "data"
   ]
  },
  {
   "cell_type": "code",
   "execution_count": null,
   "metadata": {
    "collapsed": true
   },
   "outputs": [],
   "source": []
  },
  {
   "cell_type": "code",
   "execution_count": null,
   "metadata": {
    "collapsed": true
   },
   "outputs": [],
   "source": []
  }
 ],
 "metadata": {
  "kernelspec": {
   "display_name": "Python 3",
   "language": "python",
   "name": "python3"
  },
  "language_info": {
   "codemirror_mode": {
    "name": "ipython",
    "version": 3
   },
   "file_extension": ".py",
   "mimetype": "text/x-python",
   "name": "python",
   "nbconvert_exporter": "python",
   "pygments_lexer": "ipython3",
   "version": "3.6.5"
  }
 },
 "nbformat": 4,
 "nbformat_minor": 1
}
