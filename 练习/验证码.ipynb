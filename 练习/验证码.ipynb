{
 "cells": [
  {
   "cell_type": "code",
   "execution_count": null,
   "metadata": {},
   "outputs": [],
   "source": [
    "from matplotlib import pyplot as plt\n",
    "from PIL import Image,ImageDraw,ImageFont,ImageFilter\n",
    "import random\n",
    "\n",
    "#随机字母：\n",
    "def rndChar():\n",
    "    return chr(random.randint(65,90))#大写字母ASCII的编码\n",
    "\n",
    "#随机颜色1：\n",
    "def rndColor():\n",
    "    return (random.randint(64,255),\\\n",
    "           random.randint(64,255),\\\n",
    "           random.randint(64,255))\n",
    "def rndColor2():\n",
    "    return (random.randint(32,127),\\\n",
    "           random.randint(32,127),\\\n",
    "           random.randint(32,127))\n",
    "#240*60\n",
    "width=60*4\n",
    "height=60\n",
    "image=Image.new('RGB',(width,height),(255,255,255))\n",
    "#创建Font对象：\n",
    "font=ImageFont.truetype('C:/Windows/Fonts/Arial.ttf',36)\n",
    "#创建Draw对象：\n",
    "draw=ImageDraw.Draw(image)\n",
    "#填充每个像素\n",
    "for x in range(width):\n",
    "    for y in range(height):\n",
    "        draw.point((x,y),fill=rndColor())\n",
    "#输出文字：\n",
    "for t in range(4):\n",
    "    draw.text((60*t+10,10),rndChar(),font=font,fill=rndColor2())\n",
    "#模糊:\n",
    "image=image.filter(ImageFilter.BLUR)\n",
    "#image.show()\n",
    "plt.imshow(image)\n",
    "plt.show()"
   ]
  }
 ],
 "metadata": {
  "kernelspec": {
   "display_name": "Python 3",
   "language": "python",
   "name": "python3"
  },
  "language_info": {
   "codemirror_mode": {
    "name": "ipython",
    "version": 3
   },
   "file_extension": ".py",
   "mimetype": "text/x-python",
   "name": "python",
   "nbconvert_exporter": "python",
   "pygments_lexer": "ipython3",
   "version": "3.6.5"
  }
 },
 "nbformat": 4,
 "nbformat_minor": 2
}
