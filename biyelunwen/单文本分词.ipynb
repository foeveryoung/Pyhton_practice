{
 "cells": [
  {
   "cell_type": "code",
   "execution_count": 1,
   "metadata": {},
   "outputs": [],
   "source": [
    "import jieba\n",
    "import numpy as np\n",
    "import re\n",
    "import os\n",
    "import csv"
   ]
  },
  {
   "cell_type": "code",
   "execution_count": 23,
   "metadata": {},
   "outputs": [],
   "source": [
    "def open_dic(path):\n",
    "    dictionary=open(path,\"r\",encoding=\"utf-8\")\n",
    "    dict=[]\n",
    "    for word in dictionary:\n",
    "        word=word.strip(\"\\n\")\n",
    "        word = word.lstrip()\n",
    "        word = word.rstrip()\n",
    "        dict.append(word)\n",
    "    return dict\n",
    "\n",
    "\n",
    "def judgeodd(num):\n",
    "    if num%2==0:\n",
    "        return \"even\"\n",
    "    else:\n",
    "        return \"odd\"\n",
    "posdict=open_dic(\"C:/Users/bangsun/Desktop/pos2.txt\")\n",
    "negdict=open_dic(\"C:/Users/bangsun/Desktop/neg2.txt\")\n",
    "jieba.load_userdict(\"C:/Users/bangsun/Desktop/neg2.txt\")  #读取文件前先要将文件转化为utf-8格式\n",
    "jieba.load_userdict(\"C:/Users/bangsun/Desktop/pos2.txt\")"
   ]
  },
  {
   "cell_type": "code",
   "execution_count": 24,
   "metadata": {},
   "outputs": [],
   "source": [
    "def sentiment_score_list(data):\n",
    "    data=re.sub(\"[0-9\\s+\\.\\!_,$%^*()?;；:-【】+\\\"\\'+——！，。;：:？、~@#￥■%……&*（）]+\", \"/\", data)\n",
    "    seg_sentence=data.split(\"/\") #分词\n",
    "    #print(seg_sentence)\n",
    "    countall=0\n",
    "    poscount = 0\n",
    "    negcount = 0\n",
    "    pp=[]\n",
    "    nn=[]\n",
    "    for sen in seg_sentence:\n",
    "        segtmp=jieba.cut(sen)#分词。以列表形式展示\n",
    "        for word in segtmp:\n",
    "            print(word,end=' ')\n",
    "            countall+=1\n",
    "            if word in posdict:\n",
    "                poscount+=1\n",
    "                pp.append(word)\n",
    "                #print(\"************\")\n",
    "            elif word in negdict:\n",
    "                negcount+=1\n",
    "                nn.append(word)\n",
    "                #print(\"+++++++++++\")\n",
    "    return [poscount,negcount,countall,pp,nn,segtmp]"
   ]
  },
  {
   "cell_type": "code",
   "execution_count": 25,
   "metadata": {},
   "outputs": [
    {
     "name": "stdout",
     "output_type": "stream",
     "text": [
      "政策 明确 表示 支持 中国 电影 做 大 做 强 根据 猫眼 专业版 数据 年 全国 电影票房 亿 扣除 服务费 全年 有望 实现 以上 增长 达到 - 亿 之间 截至 目前 全国 共 拥有 万块 电影 银幕 同比 增长 以上 年前 月 票房 中国 产 影片 占据 部 票房 远超 同期 进口 影片 终端 普及 与 国产电影 制作 发行 能力 增强 共同 推动 中国 电影 市场 发展 且 有望 在 政策 支持 下 持续 繁荣 提示 行业 竞争 加剧 出 清 速度慢 于 预期 导致 单 银幕 产出 持续 下滑 优质 内容 供给 不足 导致 票房 增长 不及 预期 政策 执行 力度 不及 预期 "
     ]
    }
   ],
   "source": [
    "tpos=0  #每日积极总词汇\n",
    "tneg=0\n",
    "twords=0\n",
    "data='政策明确表示支持中国电影做大做强。根据猫眼专业版数据,2017年全国电影票房524亿(扣除服务费),2018全年有望实现10%以上增长达到570-580亿之间;截至目前全国共拥有61170万块电影银幕,同比增长15%以上。2018年前11月票房TOP10中国产影片占据6部,票房远超同期进口影片。终端普及与国产电影制作、发行能力增强共同推动中国电影市场发展,且有望在政策支持下持续繁荣。提示：行业竞争加剧、出清速度慢于预期导致单银幕产出持续下滑,优质内容供给不足导致票房增长不及预期,政策执行力度不及预期。'\n",
    "wscore=sentiment_score_list(data)\n",
    "tpos+=wscore[0]\n",
    "tneg+=wscore[1]\n",
    "twords+=wscore[2]"
   ]
  },
  {
   "cell_type": "code",
   "execution_count": 26,
   "metadata": {},
   "outputs": [
    {
     "data": {
      "text/plain": [
       "['明确',\n",
       " '支持',\n",
       " '有望',\n",
       " '实现',\n",
       " '增长',\n",
       " '达到',\n",
       " '增长',\n",
       " '增强',\n",
       " '共同',\n",
       " '有望',\n",
       " '支持',\n",
       " '繁荣',\n",
       " '优质',\n",
       " '增长']"
      ]
     },
     "execution_count": 26,
     "metadata": {},
     "output_type": "execute_result"
    }
   ],
   "source": [
    "wscore[3]"
   ]
  },
  {
   "cell_type": "code",
   "execution_count": 27,
   "metadata": {},
   "outputs": [
    {
     "data": {
      "text/plain": [
       "['终端', '普及', '竞争', '加剧', '导致', '下滑', '不足', '导致', '不及', '不及']"
      ]
     },
     "execution_count": 27,
     "metadata": {},
     "output_type": "execute_result"
    }
   ],
   "source": [
    "wscore[4]"
   ]
  },
  {
   "cell_type": "code",
   "execution_count": 30,
   "metadata": {},
   "outputs": [],
   "source": [
    "files2 = os.listdir('E:/GongShang/biyelunwen/text/2016/')\n",
    "a=0\n",
    "for file in files2:\n",
    "    m=len(os.listdir('E:/GongShang/biyelunwen/text/2016/'+file))\n",
    "    a=a+m"
   ]
  },
  {
   "cell_type": "code",
   "execution_count": 30,
   "metadata": {},
   "outputs": [
    {
     "data": {
      "text/plain": [
       "0.5108256237659907"
      ]
     },
     "execution_count": 30,
     "metadata": {},
     "output_type": "execute_result"
    }
   ],
   "source": [
    "import math\n",
    "math.log(15/9)"
   ]
  },
  {
   "cell_type": "code",
   "execution_count": 32,
   "metadata": {},
   "outputs": [
    {
     "data": {
      "text/plain": [
       "50523"
      ]
     },
     "execution_count": 32,
     "metadata": {},
     "output_type": "execute_result"
    }
   ],
   "source": [
    "20675+22340+6908+600"
   ]
  },
  {
   "cell_type": "code",
   "execution_count": null,
   "metadata": {},
   "outputs": [],
   "source": []
  }
 ],
 "metadata": {
  "kernelspec": {
   "display_name": "Python 3",
   "language": "python",
   "name": "python3"
  },
  "language_info": {
   "codemirror_mode": {
    "name": "ipython",
    "version": 3
   },
   "file_extension": ".py",
   "mimetype": "text/x-python",
   "name": "python",
   "nbconvert_exporter": "python",
   "pygments_lexer": "ipython3",
   "version": "3.6.5"
  }
 },
 "nbformat": 4,
 "nbformat_minor": 2
}
