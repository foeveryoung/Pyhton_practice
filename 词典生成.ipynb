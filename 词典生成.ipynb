{
 "cells": [
  {
   "cell_type": "code",
   "execution_count": 7,
   "metadata": {},
   "outputs": [],
   "source": [
    "import jieba\n",
    "import re\n",
    "import os \n",
    "import gensim"
   ]
  },
  {
   "cell_type": "code",
   "execution_count": 6,
   "metadata": {},
   "outputs": [
    {
     "name": "stderr",
     "output_type": "stream",
     "text": [
      "D:\\mathwork\\Anaconda\\lib\\site-packages\\gensim\\utils.py:1212: UserWarning: detected Windows; aliasing chunkize to chunkize_serial\n",
      "  warnings.warn(\"detected Windows; aliasing chunkize to chunkize_serial\")\n"
     ]
    }
   ],
   "source": [
    "from gensim.models import word2vec "
   ]
  },
  {
   "cell_type": "markdown",
   "metadata": {},
   "source": [
    "# 生成语料库"
   ]
  },
  {
   "cell_type": "code",
   "execution_count": 111,
   "metadata": {},
   "outputs": [],
   "source": [
    "jieba.load_userdict('C:/Users/bangsun/Desktop/pos_how_gg.txt')\n",
    "jieba.load_userdict('C:/Users/bangsun/Desktop/neg_how_gg.txt')"
   ]
  },
  {
   "cell_type": "code",
   "execution_count": 112,
   "metadata": {},
   "outputs": [],
   "source": [
    "datefiles=os.listdir('E:/GongShang/biyelunwen/text/yuliaoku/')\n",
    "alltext=set()"
   ]
  },
  {
   "cell_type": "code",
   "execution_count": 113,
   "metadata": {},
   "outputs": [],
   "source": [
    "def readfile(datefile):\n",
    "    path=\"E:/GongShang/biyelunwen/text/yuliaoku/\"+datefile\n",
    "    files=os.listdir(path)\n",
    "    for file in files:\n",
    "        text=open(path+\"/\"+file,encoding='utf-8').read()\n",
    "        text=re.split('。|！|？|!|\\?|\\n|\\u3000|;|；|：|:',text)\n",
    "        alltext.update(text)"
   ]
  },
  {
   "cell_type": "code",
   "execution_count": 114,
   "metadata": {
    "scrolled": false
   },
   "outputs": [
    {
     "name": "stdout",
     "output_type": "stream",
     "text": [
      "2016-01-04 2016-01-05 2016-01-06 2016-01-07 2016-01-08 2016-01-11 2016-01-12 2016-01-13 2016-01-14 2016-01-15 2016-01-18 2016-01-19 2016-01-20 2016-01-21 2016-01-22 2016-01-25 2016-01-26 2016-01-27 2016-01-28 2016-01-29 2016-02-01 2016-02-02 2016-02-03 2016-02-04 2016-02-05 2016-02-15 2016-02-16 2016-02-17 2016-02-18 2016-02-19 2016-02-22 2016-02-23 2016-02-24 2016-02-25 2016-02-26 2016-02-29 2016-03-01 2016-03-02 2016-03-03 2016-03-04 2016-03-07 2016-03-08 2016-03-09 2016-03-10 2016-03-11 2016-03-14 2016-03-15 2016-03-16 2016-03-17 2016-03-18 2016-03-21 2016-03-22 2016-03-23 2016-03-24 2016-03-25 2016-03-28 2016-03-29 2016-03-30 2016-03-31 2016-04-01 2016-04-05 2016-04-06 2016-04-07 2016-04-08 2016-04-11 2016-04-12 2016-04-13 2016-04-14 2016-04-15 2016-04-18 2016-04-19 2016-04-20 2016-04-21 2016-04-22 2016-04-25 2016-04-26 2016-04-27 2016-04-28 2016-04-29 2016-05-03 2016-05-04 2016-05-05 2016-05-06 2016-05-09 2016-05-10 2016-05-11 2016-05-12 2016-05-13 2016-05-16 2016-05-17 2016-05-18 2016-05-19 2016-05-20 2016-05-23 2016-05-24 2016-05-25 2016-05-26 2016-05-27 2016-05-30 2016-05-31 2016-06-01 2016-06-02 2016-06-03 2016-06-06 2016-06-07 2016-06-08 2016-06-13 2016-06-14 2016-06-15 2016-06-16 2016-06-17 2016-06-20 2016-06-21 2016-06-22 2016-06-23 2016-06-24 2016-06-27 2016-06-28 2016-06-29 2016-06-30 2016-07-01 2016-07-04 2016-07-05 2016-07-06 2016-07-07 2016-07-08 2016-07-11 2016-07-12 2016-07-13 2016-07-14 2016-07-15 2016-07-18 2016-07-19 2016-07-20 2016-07-21 2016-07-22 2016-07-25 2016-07-26 2016-07-27 2016-07-28 2016-07-29 2016-08-01 2016-08-02 2016-08-03 2016-08-04 2016-08-05 2016-08-08 2016-08-09 2016-08-10 2016-08-11 2016-08-12 2016-08-15 2016-08-16 2016-08-17 2016-08-18 2016-08-19 2016-08-22 2016-08-23 2016-08-24 2016-08-25 2016-08-26 2016-08-29 2016-08-30 2016-08-31 2016-09-01 2016-09-02 2016-09-05 2016-09-06 2016-09-07 2016-09-08 2016-09-09 2016-09-12 2016-09-13 2016-09-14 2016-09-19 2016-09-20 2016-09-21 2016-09-22 2016-09-23 2016-09-26 2016-09-27 2016-09-28 2016-09-29 2016-09-30 2016-10-10 2016-10-11 2016-10-12 2016-10-13 2016-10-14 2016-10-17 2016-10-18 2016-10-19 2016-10-20 2016-10-21 2016-10-24 2016-10-25 2016-10-26 2016-10-27 2016-10-28 2016-10-31 2016-11-01 2016-11-02 2016-11-03 2016-11-04 2016-11-07 2016-11-08 2016-11-09 2016-11-10 2016-11-11 2016-11-14 2016-11-15 2016-11-16 2016-11-17 2016-11-18 2016-11-21 2016-11-22 2016-11-23 2016-11-24 2016-11-25 2016-11-28 2016-11-29 2016-11-30 2016-12-01 2016-12-02 2016-12-05 2016-12-06 2016-12-07 2016-12-08 2016-12-09 2016-12-12 2016-12-13 2016-12-14 2016-12-15 2016-12-16 2016-12-19 2016-12-20 2016-12-21 2016-12-22 2016-12-23 2016-12-26 2016-12-27 2016-12-28 2016-12-29 2016-12-30 "
     ]
    }
   ],
   "source": [
    "for i in datefiles:\n",
    "    readfile(i)\n",
    "    print(i,end=' ')"
   ]
  },
  {
   "cell_type": "code",
   "execution_count": 115,
   "metadata": {},
   "outputs": [
    {
     "data": {
      "text/plain": [
       "409302"
      ]
     },
     "execution_count": 115,
     "metadata": {},
     "output_type": "execute_result"
    }
   ],
   "source": [
    "len(alltext)"
   ]
  },
  {
   "cell_type": "code",
   "execution_count": 116,
   "metadata": {},
   "outputs": [],
   "source": [
    "with open('E:/GongShang/biyelunwen/text/fenhang.txt','w+',encoding='utf-8') as f1:\n",
    "    sets=[line+\"\\n\" for line in alltext]\n",
    "    f1.writelines(sets)\n",
    "    f1.close()"
   ]
  },
  {
   "cell_type": "code",
   "execution_count": 117,
   "metadata": {},
   "outputs": [],
   "source": [
    "def clean(text):\n",
    "    text=text.strip(' ')\n",
    "    text=text.replace('+','')\n",
    "    text=text.replace('_','')\n",
    "    text=text.replace('(','')\n",
    "    text=text.replace(')','')\n",
    "    text=text.replace('（','')\n",
    "    text=text.replace('）','')\n",
    "    text=text.replace('—','')\n",
    "    text=text.replace('、','')\n",
    "    text=text.replace('@','')\n",
    "    text=text.replace('~','')\n",
    "    text=text.replace('……','')\n",
    "    text=text.replace('*','')\n",
    "    text=text.replace('【','')\n",
    "    text=text.replace('】','')\n",
    "    text=text.replace('￥','')\n",
    "    text=text.replace('$','')\n",
    "    text=text.replace('“','')\n",
    "    text=text.replace('”','')\n",
    "    text=text.replace('\"','')\n",
    "    text=text.replace('&','')\n",
    "    text=text.replace('%','')\n",
    "    text=text.replace('.','')\n",
    "    #text=text.replace(',','')\n",
    "    text=re.sub('[0-9]','',text)\n",
    "    return text"
   ]
  },
  {
   "cell_type": "code",
   "execution_count": 119,
   "metadata": {},
   "outputs": [],
   "source": [
    "textseg=open(\"E:/GongShang/biyelunwen/text/fenhang.txt\",encoding='utf-8').read()\n",
    "textseg=clean(textseg)"
   ]
  },
  {
   "cell_type": "code",
   "execution_count": 128,
   "metadata": {},
   "outputs": [],
   "source": [
    "aftertext=' '.join(jieba.cut(textseg))\n",
    "with open('E:/GongShang/biyelunwen/text/save/aftertext.txt','w+',encoding='utf-8') as f2:\n",
    "    f2.write(aftertext)\n",
    "    f2.close()"
   ]
  },
  {
   "cell_type": "code",
   "execution_count": 130,
   "metadata": {
    "scrolled": true
   },
   "outputs": [],
   "source": [
    "sentences=word2vec.Text8Corpus('E:/GongShang/biyelunwen/text/save/aftertext.txt')\n",
    "model=word2vec.Word2Vec(sentences,min_count=20)"
   ]
  },
  {
   "cell_type": "code",
   "execution_count": 131,
   "metadata": {},
   "outputs": [],
   "source": [
    "model.save('E:/GongShang/biyelunwen/text/save/1.model')"
   ]
  },
  {
   "cell_type": "code",
   "execution_count": 132,
   "metadata": {
    "scrolled": true
   },
   "outputs": [
    {
     "data": {
      "text/plain": [
       "[('才能', 0.8647809624671936),\n",
       " ('能', 0.8559814691543579),\n",
       " ('无法', 0.8443604111671448),\n",
       " ('想要', 0.8175991773605347),\n",
       " ('会', 0.7978311777114868),\n",
       " ('要', 0.7916632890701294),\n",
       " ('很难', 0.7871924638748169),\n",
       " ('可以', 0.7867482304573059),\n",
       " ('难以', 0.7822325825691223),\n",
       " ('得以', 0.7813913226127625)]"
      ]
     },
     "execution_count": 132,
     "metadata": {},
     "output_type": "execute_result"
    }
   ],
   "source": [
    "model.wv.most_similar_cosmul([\"能够\"])"
   ]
  },
  {
   "cell_type": "code",
   "execution_count": 133,
   "metadata": {},
   "outputs": [],
   "source": [
    "cab=model.wv.vocab\n",
    "with open('E:/GongShang/biyelunwen/text/save/xt.txt','w+',encoding='utf-8') as f3:\n",
    "    for i in cab:\n",
    "        sscc=str(i)+\" \"+str(cab[i])+\"\\n\"\n",
    "        f3.write(sscc)\n",
    "    f3.close()"
   ]
  },
  {
   "cell_type": "markdown",
   "metadata": {},
   "source": [
    "### 生成高频词典"
   ]
  },
  {
   "cell_type": "code",
   "execution_count": 37,
   "metadata": {},
   "outputs": [],
   "source": [
    "#将howet与lm词典合并去除低频词\n",
    "p=open('C:/Users/bangsun/Desktop/pos_how_gg.txt',encoding='utf-8').read()\n",
    "n=open('C:/Users/bangsun/Desktop/neg_how_gg.txt',encoding='utf-8').read()\n",
    "c=open('C:/Users/bangsun/Desktop/cab.txt',encoding='utf-8').read()\n",
    "p1=set(p.split('\\n'))\n",
    "n1=set(n.split('\\n'))\n",
    "c1=set(c.split('\\n'))\n",
    "al=set()\n",
    "al.update(p1)\n",
    "al.update(n1)"
   ]
  },
  {
   "cell_type": "code",
   "execution_count": 38,
   "metadata": {},
   "outputs": [
    {
     "name": "stdout",
     "output_type": "stream",
     "text": [
      "596\n",
      "612\n"
     ]
    }
   ],
   "source": [
    "buji=al-c1\n",
    "newp=p1-buji\n",
    "print(len(newp))\n",
    "newn=n1-buji\n",
    "print(len(newn))"
   ]
  },
  {
   "cell_type": "code",
   "execution_count": 39,
   "metadata": {},
   "outputs": [],
   "source": [
    "with open('C:/Users/bangsun/Desktop/frepos.txt','w+',encoding='utf-8') as f5:\n",
    "    sets=[line+\"\\n\" for line in newp]\n",
    "    f5.writelines(sets)\n",
    "    f5.close()\n",
    "with open('C:/Users/bangsun/Desktop/freneg.txt','w+',encoding='utf-8') as f6:\n",
    "    sets=[line+\"\\n\" for line in newn]\n",
    "    f6.writelines(sets)\n",
    "    f6.close()"
   ]
  },
  {
   "cell_type": "markdown",
   "metadata": {},
   "source": [
    "### 扩充词典"
   ]
  },
  {
   "cell_type": "code",
   "execution_count": 9,
   "metadata": {},
   "outputs": [],
   "source": [
    "model=word2vec.Word2Vec.load('E:/GongShang/biyelunwen/text/save/1.model')"
   ]
  },
  {
   "cell_type": "code",
   "execution_count": 12,
   "metadata": {
    "scrolled": true
   },
   "outputs": [
    {
     "data": {
      "text/plain": [
       "[('强化', 0.9011340141296387),\n",
       " ('从严', 0.8588825464248657),\n",
       " ('不断加强', 0.8409199714660645),\n",
       " ('改进', 0.8282281160354614),\n",
       " ('趋严', 0.824989914894104),\n",
       " ('继续加强', 0.8206110000610352),\n",
       " ('严', 0.8139434456825256),\n",
       " ('执法', 0.810645341873169),\n",
       " ('自律', 0.8095200657844543),\n",
       " ('完善', 0.809009313583374)]"
      ]
     },
     "execution_count": 12,
     "metadata": {},
     "output_type": "execute_result"
    }
   ],
   "source": [
    "model.wv.most_similar_cosmul([\"加强\"])"
   ]
  },
  {
   "cell_type": "code",
   "execution_count": 27,
   "metadata": {},
   "outputs": [
    {
     "name": "stderr",
     "output_type": "stream",
     "text": [
      "D:\\mathwork\\Anaconda\\lib\\site-packages\\ipykernel_launcher.py:1: DeprecationWarning: Call to deprecated `similarity` (Method will be removed in 4.0.0, use self.wv.similarity() instead).\n",
      "  \"\"\"Entry point for launching an IPython kernel.\n",
      "D:\\mathwork\\Anaconda\\lib\\site-packages\\gensim\\matutils.py:737: FutureWarning: Conversion of the second argument of issubdtype from `int` to `np.signedinteger` is deprecated. In future, it will be treated as `np.int32 == np.dtype(int).type`.\n",
      "  if np.issubdtype(vec.dtype, np.int):\n"
     ]
    },
    {
     "data": {
      "text/plain": [
       "0.99999994"
      ]
     },
     "execution_count": 27,
     "metadata": {},
     "output_type": "execute_result"
    }
   ],
   "source": [
    "model.similarity(\"强化\",\"强化\")"
   ]
  },
  {
   "cell_type": "code",
   "execution_count": 25,
   "metadata": {},
   "outputs": [
    {
     "name": "stderr",
     "output_type": "stream",
     "text": [
      "D:\\mathwork\\Anaconda\\lib\\site-packages\\gensim\\matutils.py:737: FutureWarning: Conversion of the second argument of issubdtype from `int` to `np.signedinteger` is deprecated. In future, it will be treated as `np.int32 == np.dtype(int).type`.\n",
      "  if np.issubdtype(vec.dtype, np.int):\n"
     ]
    },
    {
     "data": {
      "text/plain": [
       "[('金石', 0.7454311847686768),\n",
       " ('泛海', 0.7223377823829651),\n",
       " ('奥', 0.7122482061386108),\n",
       " ('美盛', 0.7106555700302124),\n",
       " ('置业', 0.7104041576385498),\n",
       " ('复星', 0.7068163156509399),\n",
       " ('同德', 0.7017058730125427),\n",
       " ('眼科', 0.6980103850364685),\n",
       " ('瑞金', 0.69495689868927),\n",
       " ('宜华', 0.6907659769058228)]"
      ]
     },
     "execution_count": 25,
     "metadata": {},
     "output_type": "execute_result"
    }
   ],
   "source": [
    "model.wv.similar_by_word(\"和谐\",topn=10)"
   ]
  },
  {
   "cell_type": "code",
   "execution_count": 42,
   "metadata": {},
   "outputs": [
    {
     "name": "stderr",
     "output_type": "stream",
     "text": [
      "D:\\mathwork\\Anaconda\\lib\\site-packages\\gensim\\matutils.py:737: FutureWarning: Conversion of the second argument of issubdtype from `int` to `np.signedinteger` is deprecated. In future, it will be treated as `np.int32 == np.dtype(int).type`.\n",
      "  if np.issubdtype(vec.dtype, np.int):\n"
     ]
    }
   ],
   "source": [
    "addpos=[]\n",
    "addneg=[]\n",
    "for i in newp:\n",
    "    for j in c1:\n",
    "        if (i not in newn) and (model.wv.similarity(i,j)>=0.8) and (i!=j):\n",
    "            addpos.append(j)\n",
    "for i in newn:\n",
    "    for j in c1:\n",
    "        if (i not in newp) and (model.wv.similarity(i,j)>=0.8) and (i!=j):\n",
    "            addneg.append(j)"
   ]
  },
  {
   "cell_type": "code",
   "execution_count": 48,
   "metadata": {},
   "outputs": [],
   "source": [
    "with open('C:/Users/bangsun/Desktop/addpos.txt','w+',encoding='utf-8') as f7:\n",
    "    sets=[line+\"\\n\" for line in set(addpos)]\n",
    "    f7.writelines(sets)\n",
    "    f7.close()\n",
    "with open('C:/Users/bangsun/Desktop/addneg.txt','w+',encoding='utf-8') as f8:\n",
    "    sets1=[line+\"\\n\" for line in set(addneg)]\n",
    "    f8.writelines(sets1)\n",
    "    f8.close()"
   ]
  },
  {
   "cell_type": "code",
   "execution_count": 46,
   "metadata": {},
   "outputs": [
    {
     "data": {
      "text/plain": [
       "{'三五', '中介机构', '冲上', '动漫', '徐工', '急于', '攻上', '有意思', '民事', '深思'}"
      ]
     },
     "execution_count": 46,
     "metadata": {},
     "output_type": "execute_result"
    }
   ],
   "source": [
    "set(addneg)&set(addpos)"
   ]
  },
  {
   "cell_type": "code",
   "execution_count": null,
   "metadata": {},
   "outputs": [],
   "source": []
  }
 ],
 "metadata": {
  "kernelspec": {
   "display_name": "Python 3",
   "language": "python",
   "name": "python3"
  },
  "language_info": {
   "codemirror_mode": {
    "name": "ipython",
    "version": 3
   },
   "file_extension": ".py",
   "mimetype": "text/x-python",
   "name": "python",
   "nbconvert_exporter": "python",
   "pygments_lexer": "ipython3",
   "version": "3.6.5"
  }
 },
 "nbformat": 4,
 "nbformat_minor": 2
}
