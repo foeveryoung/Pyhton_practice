{
 "cells": [
  {
   "cell_type": "markdown",
   "metadata": {},
   "source": [
    "# 新年倒计时"
   ]
  },
  {
   "cell_type": "code",
   "execution_count": 1,
   "metadata": {},
   "outputs": [],
   "source": [
    "from PIL import Image,ImageDraw,ImageFont\n",
    "import os"
   ]
  },
  {
   "cell_type": "code",
   "execution_count": 2,
   "metadata": {},
   "outputs": [],
   "source": [
    "import matplotlib.pyplot as plt"
   ]
  },
  {
   "cell_type": "code",
   "execution_count": 14,
   "metadata": {},
   "outputs": [],
   "source": [
    "for i in range(8,0,-1):\n",
    "    #创建图像，设置图像大小及像素\n",
    "    im_color=[(174,60,58,255),(210,96,57,255),(174,60,58,255),(210,96,57,255),\n",
    "                (174,60,58,255),(210,96,57,255),(174,60,58,255),(210,96,57,255)]\n",
    "    im=Image.new('RGBA',(1000,2160),im_color[i-1])\n",
    "    draw = ImageDraw.Draw(im)\n",
    "    \n",
    "    #设置本次使用的字体\n",
    "    fontsFolder='E:/datasets/othersamples/newyear/'\n",
    "    font1=ImageFont.truetype(os.path.join(fontsFolder,'wenzangshufang.ttf'),580)\n",
    "    font2=ImageFont.truetype(os.path.join(fontsFolder,'SourceHanSerifCN-SemiBold.otf'),90)\n",
    "    font3=ImageFont.truetype(os.path.join(fontsFolder,'SourceHanSerifCN-SemiBold.otf'),180)\n",
    "    \n",
    "\n",
    "    \n",
    "    # 计算各文本的放置位置\n",
    "    txtSize_1=draw.textsize('距 离 新 年 还 有',font2)\n",
    "    pos_x_1=(1000-txtSize_1[0])/2\n",
    "    txtSize_2 = draw.textsize('天', font2)\n",
    "    pos_x_2 = (1000 - txtSize_2[0]) / 2\n",
    "    \n",
    "    wenhou = [\"除夕夜\", \"贴春联\", \"把面发\", \"置新衣\", \"煮肉肉\", \"买年货\", \"大扫除\", \"祭灶台\"]\n",
    "    txtSize_3 = draw.textsize(wenhou[i-1], font3)\n",
    "    pos_x_3 = (1000 - txtSize_3[0]) / 2\n",
    "    \n",
    "    #绘制矩形\n",
    "    left = pos_x_3\n",
    "    top = 1750\n",
    "    right = pos_x_3 + txtSize_3[0]\n",
    "    bottom = 1700 + txtSize_3[1]\n",
    "    draw.rectangle((left, top, right, bottom), fill=(217, 217, 217, 255))\n",
    "    \n",
    "    # 设置文本放置位置,居中\n",
    "    draw.text((pos_x_1, 200), '距 离 新 年 还 有', fill=(217, 217, 217, 255), font=font2)\n",
    "    draw.text((pos_x_2, 1400), '天', fill=(217, 217, 217, 255), font=font2)\n",
    "    draw.text((pos_x_3, 1700), wenhou[i-1], fill=im_color[i-1], font=font3)\n",
    "    \n",
    "    # 设置变化的文本属性\n",
    "    txtSize_4 = draw.textsize(str(i), font1)\n",
    "    pos_x_4 = (1000 - txtSize_4[0]) / 2\n",
    "    draw.text((pos_x_4, 600), str(i), fill=(255, 192, 0, 255), font=font1)\n",
    "    \n",
    "    im.show()"
   ]
  },
  {
   "cell_type": "code",
   "execution_count": null,
   "metadata": {},
   "outputs": [],
   "source": []
  }
 ],
 "metadata": {
  "kernelspec": {
   "display_name": "Python 3",
   "language": "python",
   "name": "python3"
  },
  "language_info": {
   "codemirror_mode": {
    "name": "ipython",
    "version": 3
   },
   "file_extension": ".py",
   "mimetype": "text/x-python",
   "name": "python",
   "nbconvert_exporter": "python",
   "pygments_lexer": "ipython3",
   "version": "3.7.3"
  },
  "toc": {
   "base_numbering": 1,
   "nav_menu": {},
   "number_sections": true,
   "sideBar": true,
   "skip_h1_title": false,
   "title_cell": "Table of Contents",
   "title_sidebar": "Contents",
   "toc_cell": false,
   "toc_position": {},
   "toc_section_display": true,
   "toc_window_display": false
  }
 },
 "nbformat": 4,
 "nbformat_minor": 2
}
